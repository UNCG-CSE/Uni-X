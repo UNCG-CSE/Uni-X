{
 "cells": [
  {
   "cell_type": "markdown",
   "metadata": {},
   "source": [
    "# Please share useful function in this file "
   ]
  },
  {
   "cell_type": "markdown",
   "metadata": {},
   "source": [
    "### The function clean_and_prepare handle a few things as listed below:\n",
    "###  (1) merge dataset from different year;\n",
    "###  (2) prepare the variables of repayment rate (response variable) as well as other variables (explanatory variables); \n",
    "###  (3) drop the empty column and row;\n",
    "###  (4) save the final dataset to local .csv file and return the dataset."
   ]
  },
  {
   "cell_type": "code",
   "execution_count": null,
   "metadata": {
    "collapsed": true
   },
   "outputs": [],
   "source": [
    "def clean_and_prepare():\n",
    "    # Load csv file into dataframe\n",
    "    sc96 = pd.read_csv(\"../data/CollegeScorecard_Raw_Data/MERGED1996_97_PP.csv\")\n",
    "    sc97 = pd.read_csv(\"../data/CollegeScorecard_Raw_Data/MERGED1997_98_PP.csv\")\n",
    "    sc98 = pd.read_csv(\"../data/CollegeScorecard_Raw_Data/MERGED1998_99_PP.csv\")\n",
    "    sc99 = pd.read_csv(\"../data/CollegeScorecard_Raw_Data/MERGED1999_00_PP.csv\")\n",
    "    sc00 = pd.read_csv(\"../data/CollegeScorecard_Raw_Data/MERGED2000_01_PP.csv\")\n",
    "    sc01 = pd.read_csv(\"../data/CollegeScorecard_Raw_Data/MERGED2001_02_PP.csv\")\n",
    "    sc02 = pd.read_csv(\"../data/CollegeScorecard_Raw_Data/MERGED2002_03_PP.csv\")\n",
    "    sc03 = pd.read_csv(\"../data/CollegeScorecard_Raw_Data/MERGED2003_04_PP.csv\")\n",
    "    sc04 = pd.read_csv(\"../data/CollegeScorecard_Raw_Data/MERGED2004_05_PP.csv\")\n",
    "    sc05 = pd.read_csv(\"../data/CollegeScorecard_Raw_Data/MERGED2005_06_PP.csv\")\n",
    "    sc06 = pd.read_csv(\"../data/CollegeScorecard_Raw_Data/MERGED2006_07_PP.csv\")\n",
    "    sc07 = pd.read_csv(\"../data/CollegeScorecard_Raw_Data/MERGED2007_08_PP.csv\")\n",
    "    sc08 = pd.read_csv(\"../data/CollegeScorecard_Raw_Data/MERGED2008_09_PP.csv\")\n",
    "    sc09 = pd.read_csv(\"../data/CollegeScorecard_Raw_Data/MERGED2009_10_PP.csv\")\n",
    "    sc10 = pd.read_csv(\"../data/CollegeScorecard_Raw_Data/MERGED2010_11_PP.csv\")\n",
    "    sc11 = pd.read_csv(\"../data/CollegeScorecard_Raw_Data/MERGED2011_12_PP.csv\")\n",
    "    sc12 = pd.read_csv(\"../data/CollegeScorecard_Raw_Data/MERGED2012_13_PP.csv\")\n",
    "    sc13 = pd.read_csv(\"../data/CollegeScorecard_Raw_Data/MERGED2013_14_PP.csv\")\n",
    "    sc14 = pd.read_csv(\"../data/CollegeScorecard_Raw_Data/MERGED2014_15_PP.csv\")\n",
    "    \n",
    "    # Load Dictionary\n",
    "    dic_file=pd.ExcelFile(\"../data/CollegeScorecardDataDictionary.xlsx\")\n",
    "    dic_init = dic_file.parse(\"data_dictionary\")\n",
    "    dic_init.head()\n",
    "    dic_init.columns\n",
    "    \n",
    "    # Clean Dictionary\n",
    "    dic=dic_init.ix[dic_init['VARIABLE NAME'].notnull()]\n",
    "    \n",
    "    sc_init=[sc96,sc97,sc98,sc99,sc00,sc01,sc02,sc03,sc04,sc05,sc06,sc07,sc08,sc09,sc10,sc11,sc12,sc13,sc14]\n",
    "    \n",
    "    # Add year variable\n",
    "    for i in range(len(sc_init)):\n",
    "        sc_init[i]['Year']=i+1996\n",
    "    \n",
    "    # Merge dataset with valid repayment information (2007-2014)\n",
    "    sc_merge=pd.concat(sc_init[11:19])\n",
    "    \n",
    "    # Pick x and y variables\n",
    "    scx_merge=sc_merge.loc[:,dic['VARIABLE NAME'][dic[\"dev-category\"]!=\"repayment\"]]\n",
    "    scy_merge=sc_merge.loc[:,['RPY_1YR_RT','RPY_3YR_RT','RPY_5YR_RT', 'RPY_7YR_RT'] ]\n",
    "    \n",
    "    # Combine x and y variables\n",
    "    sc=pd.concat([scy_merge,scx_merge,sc_merge['Year']],axis=1)\n",
    "    \n",
    "    # Drop empty row and column\n",
    "    sc_drop=sc.dropna(how=\"all\",axis=1)\n",
    "    sc_drop=sc_drop.dropna(how=\"all\",axis=0)\n",
    "    \n",
    "    # Save it to local file\n",
    "    sc_drop.to_csv('../data/sc_final.csv')\n",
    "    \n",
    "    return sc_drop"
   ]
  },
  {
   "cell_type": "code",
   "execution_count": null,
   "metadata": {
    "collapsed": true
   },
   "outputs": [],
   "source": [
    "# Example\n",
    "sc=clean_and_prepare()\n",
    "# after creating .csv file, we can obtain data from file directly\n",
    "sc= pd.read_csv(\"../data/sc_final.csv\")"
   ]
  }
 ],
 "metadata": {
  "kernelspec": {
   "display_name": "Python 2",
   "language": "python",
   "name": "python2"
  },
  "language_info": {
   "codemirror_mode": {
    "name": "ipython",
    "version": 2
   },
   "file_extension": ".py",
   "mimetype": "text/x-python",
   "name": "python",
   "nbconvert_exporter": "python",
   "pygments_lexer": "ipython2",
   "version": "2.7.13"
  }
 },
 "nbformat": 4,
 "nbformat_minor": 2
}
