{
 "cells": [
  {
   "cell_type": "code",
   "execution_count": 1,
   "metadata": {
    "collapsed": true
   },
   "outputs": [],
   "source": [
    "#importing packages\n",
    "%matplotlib inline\n",
    "import matplotlib\n",
    "import pandas as pd\n",
    "import numpy as np\n",
    "from matplotlib import pyplot as plt\n",
    "from sklearn.decomposition import PCA\n",
    "from Utility.IO import *\n"
   ]
  },
  {
   "cell_type": "markdown",
   "metadata": {},
   "source": [
    "#### Load Dictionary"
   ]
  },
  {
   "cell_type": "code",
   "execution_count": 2,
   "metadata": {
    "collapsed": true
   },
   "outputs": [],
   "source": [
    "dic=load_dictionary()"
   ]
  },
  {
   "cell_type": "code",
   "execution_count": 3,
   "metadata": {},
   "outputs": [
    {
     "data": {
      "text/html": [
       "<div>\n",
       "<style>\n",
       "    .dataframe thead tr:only-child th {\n",
       "        text-align: right;\n",
       "    }\n",
       "\n",
       "    .dataframe thead th {\n",
       "        text-align: left;\n",
       "    }\n",
       "\n",
       "    .dataframe tbody tr th {\n",
       "        vertical-align: top;\n",
       "    }\n",
       "</style>\n",
       "<table border=\"1\" class=\"dataframe\">\n",
       "  <thead>\n",
       "    <tr style=\"text-align: right;\">\n",
       "      <th></th>\n",
       "      <th>desc</th>\n",
       "      <th>category</th>\n",
       "      <th>name</th>\n",
       "    </tr>\n",
       "  </thead>\n",
       "  <tbody>\n",
       "    <tr>\n",
       "      <th>0</th>\n",
       "      <td>Unit ID for institution</td>\n",
       "      <td>root</td>\n",
       "      <td>UNITID</td>\n",
       "    </tr>\n",
       "    <tr>\n",
       "      <th>1</th>\n",
       "      <td>8-digit OPE ID for institution</td>\n",
       "      <td>root</td>\n",
       "      <td>OPEID</td>\n",
       "    </tr>\n",
       "    <tr>\n",
       "      <th>2</th>\n",
       "      <td>6-digit OPE ID for institution</td>\n",
       "      <td>root</td>\n",
       "      <td>OPEID6</td>\n",
       "    </tr>\n",
       "    <tr>\n",
       "      <th>6</th>\n",
       "      <td>ZIP code</td>\n",
       "      <td>school</td>\n",
       "      <td>ZIP</td>\n",
       "    </tr>\n",
       "    <tr>\n",
       "      <th>10</th>\n",
       "      <td>Predominant degree awarded (recoded 0s and 4s)</td>\n",
       "      <td>school</td>\n",
       "      <td>SCH_DEG</td>\n",
       "    </tr>\n",
       "  </tbody>\n",
       "</table>\n",
       "</div>"
      ],
      "text/plain": [
       "                                              desc category     name\n",
       "0                          Unit ID for institution     root   UNITID\n",
       "1                   8-digit OPE ID for institution     root    OPEID\n",
       "2                   6-digit OPE ID for institution     root   OPEID6\n",
       "6                                         ZIP code   school      ZIP\n",
       "10  Predominant degree awarded (recoded 0s and 4s)   school  SCH_DEG"
      ]
     },
     "execution_count": 3,
     "metadata": {},
     "output_type": "execute_result"
    }
   ],
   "source": [
    "dic.head()"
   ]
  },
  {
   "cell_type": "code",
   "execution_count": null,
   "metadata": {
    "collapsed": true
   },
   "outputs": [],
   "source": [
    "dic.loc[:,dic.category=='']"
   ]
  },
  {
   "cell_type": "code",
   "execution_count": 4,
   "metadata": {},
   "outputs": [
    {
     "data": {
      "text/plain": [
       "array([u'school', u'admissions', u'academics', u'student', u'cost', u'aid',\n",
       "       u'completion', u'earnings'], dtype=object)"
      ]
     },
     "execution_count": 4,
     "metadata": {},
     "output_type": "execute_result"
    }
   ],
   "source": [
    "cat_list0=dic.category.unique()\n",
    "cat_list=np.delete(cat_list0,[0,8])\n",
    "cat_list"
   ]
  },
  {
   "cell_type": "markdown",
   "metadata": {},
   "source": [
    "#### Read data and transform"
   ]
  },
  {
   "cell_type": "code",
   "execution_count": 5,
   "metadata": {},
   "outputs": [
    {
     "name": "stderr",
     "output_type": "stream",
     "text": [
      "C:\\Users\\b_luo\\AppData\\Local\\Continuum\\anaconda2\\lib\\site-packages\\IPython\\core\\interactiveshell.py:2822: DtypeWarning: Columns (1,2,3,4,8,9,10,11,420,421,422,423,424,425,426,427,428,429,430,431,432,433,434,435,436,437,438,439,440,441,442,443,444,445,446,447,448,449,450,451,452,453,454,455,456,457,458,459,460,461,462,463,464,465,466,467,468,469,470,471,472,473,474,475,476,477,478,479,480,481,482,483,484,485,486,487,488,489,490,491,492,493,494,495,496,497,498,499,500,501,502,503,504,505,506,507,508,509,510,511,512,513,514,515,516,517,518,519,520,521,522,523,524,525,526,527,528,529,530,531,532,533,534,535,536,537,538,539,540,541,542,543,544,545,546,547,548,549,550,551,552,553,554,555,556,557,558,559,560,561,562,563,564,565,566,567,568,569,570,571,572,573,574,575,576,577,578,579,580,581,582,583,584,585,586,587,588,589,590,591,592,593,594,595,596,597,598,599,600,601,602,603,604,605,606,607,608,609,610,611,612,613,614,615,616,617,618,619,620,621,622,623,624,625,626,627,628,629,630,631,632,633,634,635,636,637,638,639,640,641,642,643,644,645,646,647,648,649,650,651,652,653,654,655,656,657,658,659,660,661,662,663,664,665,666,667,668,669,670,671,672,673,674,675,676,677,678,679,680,681,682,683,684,685,686,687,688,689,690,691,692,693,694,695,696,697,698,699,700,701,702,703,704,705,706,707,708,709,710,711,712,713,714,715,716,717,718,719,720,721,722,723,724,725,726,727,728,729,730,731,732,733,734,735,736,737,738,739,740,741,742,743,744,745,746,747,748,749,750,751,752,753,754,755,756,757,758,759,760,761,762,763,764,765,766,767,768,769,770,771,772,773,774,775,776,777,778,779,780,781,782,783,784,785,786,787,788,789,790,791,792,793,794,795,796,797,798,799,800,801,802,803,804,805,806,807,808,809,810,811,812,813,814,815,816,817,818,819,820,821,822,823,824,825,826,827,828,829,830,831,832,833,834,835,836,837,838,839,840,841,842,843,844,845,846,847,848,849,850,851,852,853,854,855,856,857,858,859,860,861,862,863,864,865,866,867,868,869,870,871,872,873,874,875,876,877,878,879,880,881,882,883,884,885,886,887,888,889,890,891,892,893,894,895,896,897,898,899,900,901,902,903,904,905,906,907,908,909,910,911,912,913,914,915,916,917,918,919,920,921,922,923,924,925,926,927,928,929,930,931,932,933,934,935,936,937,938,939,940,941,942,943,944,945,946,947,948,949,950,951,952,953,954,955,956,957,958,959,960,961,962,963,964,965,966,967,968,969,970,971,972,973,974,975,976,977,978,979,980,981,982,983,984,985,986,987,988,989,990,991,992,993,994,995,996,997,998,999,1000,1001,1002,1003,1004,1005,1006,1007,1008,1009,1010,1011,1012,1013,1014,1015,1016,1017,1018,1019,1020,1021,1022,1023,1024,1025,1026,1027,1028,1029,1030,1031,1032,1033,1034,1035,1036,1037,1038,1039,1040,1041,1042,1043,1044,1045,1046,1047,1048,1049,1050,1051,1052,1053,1054,1055,1056,1057,1058,1059,1060,1061,1062,1063,1064,1065,1066,1067,1068,1069,1070,1071,1072,1073,1074,1075,1076,1077,1078,1079,1080,1081,1082,1083,1084,1085,1086,1087,1088,1089,1090,1091,1092,1093,1094,1095,1096,1097,1098,1099,1100,1101,1102,1103,1104,1105,1106,1107,1108,1109,1110,1111,1112,1113,1114,1115,1116,1117,1118,1119,1120,1121,1122,1123,1124,1125,1126,1127,1128,1129,1130,1131,1132,1133,1134,1135,1136,1137,1138,1139,1140,1141,1142,1143,1144,1145,1146,1147,1148,1149,1150,1151,1152,1153,1154,1155,1156,1157,1158,1159,1160,1161,1162,1163,1164,1165,1166,1167,1168,1169,1170,1171,1172,1173,1174,1175,1176,1177,1178,1179,1180,1181,1182,1183,1184,1185,1186,1187,1188,1189,1190,1191,1192,1193,1194,1195,1196,1197,1198,1199,1200,1201,1202,1203,1204,1205,1206,1207,1208,1209,1210,1211,1212,1213,1214,1215,1216,1217,1218,1219,1220,1221,1222,1223,1224,1225,1226,1227,1228,1229,1230,1231,1232,1233,1234,1235,1236,1237,1238,1239,1240,1241,1242,1243,1244,1245,1246,1247,1248,1249,1250,1251,1252,1253,1254,1255,1256,1257,1258,1259,1260,1261,1262,1263,1264,1265,1266,1267,1268,1269,1270,1271,1272,1273,1274,1275,1276,1277,1278,1279,1280,1281,1282,1283,1284,1285,1286,1287,1288,1289,1290,1291,1292,1293,1294,1295,1296,1297,1298,1299,1300,1301,1302,1303,1304,1305,1306,1307,1308,1309,1310,1311,1312,1313,1314,1315,1316,1317,1318,1319,1320,1321,1322,1323,1324,1325,1326,1327,1328,1329,1330,1334,1348,1350,1356,1357,1358,1359,1360,1361,1362,1363,1364,1365,1366,1367,1368,1369,1370,1371,1372,1373,1374,1375,1376,1377,1378,1379,1380,1381,1382,1383,1384,1385,1386,1387,1388,1389,1390,1391,1392,1393,1394,1395,1396,1397,1398,1399,1400,1401,1402,1403,1404,1405,1406,1407,1408,1409,1410,1411,1412,1413,1414,1415,1416,1417,1418,1419,1420,1421,1422,1423,1424,1425,1426,1440,1452,1453,1455,1460,1463,1464,1465,1466,1467,1469,1470,1471,1472,1475,1476,1477,1479,1480,1481,1482,1483,1484,1485,1486,1487,1488,1489,1490,1491,1492,1493,1494,1495,1496,1497,1498,1499,1500,1501,1502,1503,1504,1505,1506,1507,1508,1509,1510,1511,1512,1513,1514,1515,1516,1517,1518,1519,1520,1521,1522,1523,1524,1525,1526,1527,1528,1529,1530,1531,1532,1533,1534,1535,1536,1537,1538,1539,1540,1541,1542,1543,1544,1545,1546,1547,1548,1549,1550,1554,1555,1556,1557,1558) have mixed types. Specify dtype option on import or set low_memory=False.\n",
      "  if self.run_code(code, result):\n",
      "Utility\\IO.py:91: FutureWarning: convert_objects is deprecated.  Use the data-type specific converters pd.to_datetime, pd.to_timedelta and pd.to_numeric.\n",
      "  sc_sub=sc_sub.convert_objects(convert_numeric=True)\n"
     ]
    }
   ],
   "source": [
    "rpyrt0=get_rpyrt_by_class(1)"
   ]
  },
  {
   "cell_type": "code",
   "execution_count": 6,
   "metadata": {
    "collapsed": true
   },
   "outputs": [],
   "source": [
    "rpyrt=rpyrt0"
   ]
  },
  {
   "cell_type": "code",
   "execution_count": 7,
   "metadata": {
    "collapsed": true
   },
   "outputs": [],
   "source": [
    "#rpyrt=rpyrt0.drop('OPEID6',axis=1)"
   ]
  },
  {
   "cell_type": "code",
   "execution_count": 8,
   "metadata": {
    "collapsed": true
   },
   "outputs": [],
   "source": [
    "y=np.log(rpyrt.RPY_1YR_RT/(1-rpyrt.RPY_1YR_RT))"
   ]
  },
  {
   "cell_type": "code",
   "execution_count": 9,
   "metadata": {},
   "outputs": [
    {
     "data": {
      "text/html": [
       "<div>\n",
       "<style>\n",
       "    .dataframe thead tr:only-child th {\n",
       "        text-align: right;\n",
       "    }\n",
       "\n",
       "    .dataframe thead th {\n",
       "        text-align: left;\n",
       "    }\n",
       "\n",
       "    .dataframe tbody tr th {\n",
       "        vertical-align: top;\n",
       "    }\n",
       "</style>\n",
       "<table border=\"1\" class=\"dataframe\">\n",
       "  <thead>\n",
       "    <tr style=\"text-align: right;\">\n",
       "      <th></th>\n",
       "      <th>RPY_1YR_RT</th>\n",
       "      <th>INSTNM</th>\n",
       "      <th>CITY</th>\n",
       "      <th>STABBR</th>\n",
       "      <th>ZIP</th>\n",
       "      <th>SCH_DEG</th>\n",
       "      <th>MAIN</th>\n",
       "      <th>NUMBRANCH</th>\n",
       "      <th>PREDDEG</th>\n",
       "      <th>HIGHDEG</th>\n",
       "      <th>...</th>\n",
       "      <th>C100_L4</th>\n",
       "      <th>D100_L4</th>\n",
       "      <th>TRANS_4</th>\n",
       "      <th>DTRANS_4</th>\n",
       "      <th>TRANS_L4</th>\n",
       "      <th>DTRANS_L4</th>\n",
       "      <th>ICLEVEL</th>\n",
       "      <th>UGDS_MEN</th>\n",
       "      <th>UGDS_WOMEN</th>\n",
       "      <th>Year</th>\n",
       "    </tr>\n",
       "  </thead>\n",
       "  <tbody>\n",
       "    <tr>\n",
       "      <th>0</th>\n",
       "      <td>0.477044</td>\n",
       "      <td>Alabama A &amp; M University</td>\n",
       "      <td>Normal</td>\n",
       "      <td>AL</td>\n",
       "      <td>35762.0</td>\n",
       "      <td>3.0</td>\n",
       "      <td>1</td>\n",
       "      <td>1</td>\n",
       "      <td>3</td>\n",
       "      <td>4</td>\n",
       "      <td>...</td>\n",
       "      <td>NaN</td>\n",
       "      <td>NaN</td>\n",
       "      <td>0.000000</td>\n",
       "      <td>1038.0</td>\n",
       "      <td>NaN</td>\n",
       "      <td>NaN</td>\n",
       "      <td>1.0</td>\n",
       "      <td>0.4709</td>\n",
       "      <td>0.5291</td>\n",
       "      <td>2007</td>\n",
       "    </tr>\n",
       "    <tr>\n",
       "      <th>1</th>\n",
       "      <td>0.608185</td>\n",
       "      <td>University of Alabama at Birmingham</td>\n",
       "      <td>Birmingham</td>\n",
       "      <td>AL</td>\n",
       "      <td>NaN</td>\n",
       "      <td>3.0</td>\n",
       "      <td>1</td>\n",
       "      <td>1</td>\n",
       "      <td>3</td>\n",
       "      <td>4</td>\n",
       "      <td>...</td>\n",
       "      <td>NaN</td>\n",
       "      <td>NaN</td>\n",
       "      <td>0.234477</td>\n",
       "      <td>1224.0</td>\n",
       "      <td>NaN</td>\n",
       "      <td>NaN</td>\n",
       "      <td>1.0</td>\n",
       "      <td>0.3956</td>\n",
       "      <td>0.6044</td>\n",
       "      <td>2007</td>\n",
       "    </tr>\n",
       "    <tr>\n",
       "      <th>2</th>\n",
       "      <td>0.657534</td>\n",
       "      <td>Amridge University</td>\n",
       "      <td>Montgomery</td>\n",
       "      <td>AL</td>\n",
       "      <td>NaN</td>\n",
       "      <td>3.0</td>\n",
       "      <td>1</td>\n",
       "      <td>1</td>\n",
       "      <td>3</td>\n",
       "      <td>4</td>\n",
       "      <td>...</td>\n",
       "      <td>NaN</td>\n",
       "      <td>NaN</td>\n",
       "      <td>0.600000</td>\n",
       "      <td>5.0</td>\n",
       "      <td>NaN</td>\n",
       "      <td>NaN</td>\n",
       "      <td>1.0</td>\n",
       "      <td>0.4752</td>\n",
       "      <td>0.5248</td>\n",
       "      <td>2007</td>\n",
       "    </tr>\n",
       "    <tr>\n",
       "      <th>3</th>\n",
       "      <td>0.657205</td>\n",
       "      <td>University of Alabama in Huntsville</td>\n",
       "      <td>Huntsville</td>\n",
       "      <td>AL</td>\n",
       "      <td>35899.0</td>\n",
       "      <td>3.0</td>\n",
       "      <td>1</td>\n",
       "      <td>1</td>\n",
       "      <td>3</td>\n",
       "      <td>4</td>\n",
       "      <td>...</td>\n",
       "      <td>NaN</td>\n",
       "      <td>NaN</td>\n",
       "      <td>0.331081</td>\n",
       "      <td>592.0</td>\n",
       "      <td>NaN</td>\n",
       "      <td>NaN</td>\n",
       "      <td>1.0</td>\n",
       "      <td>0.5169</td>\n",
       "      <td>0.4831</td>\n",
       "      <td>2007</td>\n",
       "    </tr>\n",
       "    <tr>\n",
       "      <th>4</th>\n",
       "      <td>0.432048</td>\n",
       "      <td>Alabama State University</td>\n",
       "      <td>Montgomery</td>\n",
       "      <td>AL</td>\n",
       "      <td>NaN</td>\n",
       "      <td>3.0</td>\n",
       "      <td>1</td>\n",
       "      <td>1</td>\n",
       "      <td>3</td>\n",
       "      <td>4</td>\n",
       "      <td>...</td>\n",
       "      <td>NaN</td>\n",
       "      <td>NaN</td>\n",
       "      <td>0.000000</td>\n",
       "      <td>1263.0</td>\n",
       "      <td>NaN</td>\n",
       "      <td>NaN</td>\n",
       "      <td>1.0</td>\n",
       "      <td>0.4026</td>\n",
       "      <td>0.5974</td>\n",
       "      <td>2007</td>\n",
       "    </tr>\n",
       "  </tbody>\n",
       "</table>\n",
       "<p>5 rows × 1436 columns</p>\n",
       "</div>"
      ],
      "text/plain": [
       "   RPY_1YR_RT                               INSTNM        CITY STABBR  \\\n",
       "0    0.477044             Alabama A & M University      Normal     AL   \n",
       "1    0.608185  University of Alabama at Birmingham  Birmingham     AL   \n",
       "2    0.657534                   Amridge University  Montgomery     AL   \n",
       "3    0.657205  University of Alabama in Huntsville  Huntsville     AL   \n",
       "4    0.432048             Alabama State University  Montgomery     AL   \n",
       "\n",
       "       ZIP  SCH_DEG  MAIN  NUMBRANCH  PREDDEG  HIGHDEG  ...   C100_L4  \\\n",
       "0  35762.0      3.0     1          1        3        4  ...       NaN   \n",
       "1      NaN      3.0     1          1        3        4  ...       NaN   \n",
       "2      NaN      3.0     1          1        3        4  ...       NaN   \n",
       "3  35899.0      3.0     1          1        3        4  ...       NaN   \n",
       "4      NaN      3.0     1          1        3        4  ...       NaN   \n",
       "\n",
       "   D100_L4   TRANS_4  DTRANS_4  TRANS_L4  DTRANS_L4  ICLEVEL  UGDS_MEN  \\\n",
       "0      NaN  0.000000    1038.0       NaN        NaN      1.0    0.4709   \n",
       "1      NaN  0.234477    1224.0       NaN        NaN      1.0    0.3956   \n",
       "2      NaN  0.600000       5.0       NaN        NaN      1.0    0.4752   \n",
       "3      NaN  0.331081     592.0       NaN        NaN      1.0    0.5169   \n",
       "4      NaN  0.000000    1263.0       NaN        NaN      1.0    0.4026   \n",
       "\n",
       "   UGDS_WOMEN  Year  \n",
       "0      0.5291  2007  \n",
       "1      0.6044  2007  \n",
       "2      0.5248  2007  \n",
       "3      0.4831  2007  \n",
       "4      0.5974  2007  \n",
       "\n",
       "[5 rows x 1436 columns]"
      ]
     },
     "execution_count": 9,
     "metadata": {},
     "output_type": "execute_result"
    }
   ],
   "source": [
    "rpyrt.head()"
   ]
  },
  {
   "cell_type": "markdown",
   "metadata": {},
   "source": [
    "#### Variable Screening"
   ]
  },
  {
   "cell_type": "code",
   "execution_count": 10,
   "metadata": {
    "collapsed": true
   },
   "outputs": [],
   "source": [
    "screen=prescreening_by_class(rpyrt,y=1,nobs=501)"
   ]
  },
  {
   "cell_type": "code",
   "execution_count": 11,
   "metadata": {
    "collapsed": true
   },
   "outputs": [],
   "source": [
    "rpyrt.fillna(0,inplace=True)"
   ]
  },
  {
   "cell_type": "code",
   "execution_count": 12,
   "metadata": {
    "collapsed": true
   },
   "outputs": [],
   "source": [
    "dic=dic.loc[dic['name'].isin(screen),:]"
   ]
  },
  {
   "cell_type": "code",
   "execution_count": 13,
   "metadata": {
    "collapsed": true
   },
   "outputs": [],
   "source": [
    "X=rpyrt[dic.name]\n",
    "X=X/X.std()"
   ]
  },
  {
   "cell_type": "code",
   "execution_count": 16,
   "metadata": {},
   "outputs": [
    {
     "data": {
      "text/plain": [
       "(35027, 500)"
      ]
     },
     "execution_count": 16,
     "metadata": {},
     "output_type": "execute_result"
    }
   ],
   "source": [
    "X.shape"
   ]
  },
  {
   "cell_type": "code",
   "execution_count": 17,
   "metadata": {},
   "outputs": [
    {
     "data": {
      "text/html": [
       "<div>\n",
       "<style>\n",
       "    .dataframe thead tr:only-child th {\n",
       "        text-align: right;\n",
       "    }\n",
       "\n",
       "    .dataframe thead th {\n",
       "        text-align: left;\n",
       "    }\n",
       "\n",
       "    .dataframe tbody tr th {\n",
       "        vertical-align: top;\n",
       "    }\n",
       "</style>\n",
       "<table border=\"1\" class=\"dataframe\">\n",
       "  <thead>\n",
       "    <tr style=\"text-align: right;\">\n",
       "      <th></th>\n",
       "      <th>desc</th>\n",
       "      <th>name</th>\n",
       "    </tr>\n",
       "    <tr>\n",
       "      <th>category</th>\n",
       "      <th></th>\n",
       "      <th></th>\n",
       "    </tr>\n",
       "  </thead>\n",
       "  <tbody>\n",
       "    <tr>\n",
       "      <th>academics</th>\n",
       "      <td>33</td>\n",
       "      <td>33</td>\n",
       "    </tr>\n",
       "    <tr>\n",
       "      <th>admissions</th>\n",
       "      <td>20</td>\n",
       "      <td>20</td>\n",
       "    </tr>\n",
       "    <tr>\n",
       "      <th>aid</th>\n",
       "      <td>15</td>\n",
       "      <td>15</td>\n",
       "    </tr>\n",
       "    <tr>\n",
       "      <th>completion</th>\n",
       "      <td>317</td>\n",
       "      <td>317</td>\n",
       "    </tr>\n",
       "    <tr>\n",
       "      <th>cost</th>\n",
       "      <td>20</td>\n",
       "      <td>20</td>\n",
       "    </tr>\n",
       "    <tr>\n",
       "      <th>earnings</th>\n",
       "      <td>46</td>\n",
       "      <td>46</td>\n",
       "    </tr>\n",
       "    <tr>\n",
       "      <th>school</th>\n",
       "      <td>9</td>\n",
       "      <td>9</td>\n",
       "    </tr>\n",
       "    <tr>\n",
       "      <th>student</th>\n",
       "      <td>40</td>\n",
       "      <td>40</td>\n",
       "    </tr>\n",
       "  </tbody>\n",
       "</table>\n",
       "</div>"
      ],
      "text/plain": [
       "            desc  name\n",
       "category              \n",
       "academics     33    33\n",
       "admissions    20    20\n",
       "aid           15    15\n",
       "completion   317   317\n",
       "cost          20    20\n",
       "earnings      46    46\n",
       "school         9     9\n",
       "student       40    40"
      ]
     },
     "execution_count": 17,
     "metadata": {},
     "output_type": "execute_result"
    }
   ],
   "source": [
    "dic.groupby(['category']).count()"
   ]
  },
  {
   "cell_type": "markdown",
   "metadata": {},
   "source": [
    "### PCA"
   ]
  },
  {
   "cell_type": "code",
   "execution_count": 34,
   "metadata": {},
   "outputs": [
    {
     "name": "stdout",
     "output_type": "stream",
     "text": [
      "school\n",
      "(35027, 9)\n",
      "admissions\n",
      "(35027, 20)\n",
      "academics\n",
      "(35027, 33)\n",
      "student\n",
      "(35027, 40)\n",
      "cost\n",
      "(35027, 20)\n",
      "aid\n",
      "(35027, 15)\n",
      "completion\n",
      "(35027, 317)\n",
      "earnings\n",
      "(35027, 46)\n"
     ]
    },
    {
     "data": {
      "image/png": "[encoded data removed]",
      "text/plain": [
       "<matplotlib.figure.Figure at 0x31cdec18>"
      ]
     },
     "metadata": {},
     "output_type": "display_data"
    }
   ],
   "source": [
    "#pca = PCA(n_components=3)\n",
    "fig, axes = plt.subplots(nrows=4,ncols=2,figsize=(20,20))\n",
    "ncom=[3,2,4,7,3,2,12,5]\n",
    "i=0\n",
    "for cat in cat_list:\n",
    "    variables=dic.loc[dic.category==cat,'name']\n",
    "    XX=X.loc[:,np.array(variables)].fillna(0)\n",
    "    m=20\n",
    "    if cat=='completion':\n",
    "        m=PCA(0.8).fit(XX).n_components_\n",
    "    pca=PCA(n_components=min(XX.shape[1],m))\n",
    "    pca.fit(XX)\n",
    "    print cat\n",
    "    print XX.shape\n",
    "    ax=axes[i/2,i%2]\n",
    "    ax.plot(range(1,(pca.n_components_+1)),pca.explained_variance_ratio_,label=\"x\",linewidth=3)\n",
    "    ax.set_xlabel('Component Number')\n",
    "    ax.set_ylabel('Explained Variance')\n",
    "    ax.set_xticks(range(1,(pca.n_components_+1)))\n",
    "    ax.set_title(str(cat).title())\n",
    "    ax.axvline(PCA(0.8).fit(XX).n_components_,linestyle='--',color='g',linewidth=3)\n",
    "    #ax.axvline(ncom[i],linestyle='--',color='g')\n",
    "    i=i+1\n",
    "plt.tight_layout()"
   ]
  },
  {
   "cell_type": "markdown",
   "metadata": {
    "collapsed": true
   },
   "source": [
    "### Linear Regression on PCA"
   ]
  },
  {
   "cell_type": "code",
   "execution_count": 229,
   "metadata": {},
   "outputs": [
    {
     "name": "stdout",
     "output_type": "stream",
     "text": [
      "0.715237064086\n",
      "0.715237064086\n",
      "0.715237064086\n",
      "0.733242158174\n",
      "0.746031758446\n",
      "0.805354185546\n",
      "0.8131617863\n",
      "0.841931282134\n",
      "0.855606718464\n",
      "0.863340916683\n",
      "0.872420762753\n"
     ]
    }
   ],
   "source": [
    "from sklearn.preprocessing import PolynomialFeatures\n",
    "from sklearn.linear_model import LinearRegression\n",
    "from sklearn.pipeline import make_pipeline\n",
    "from sklearn.cross_validation import cross_val_score\n",
    "from sklearn.learning_curve import validation_curve\n",
    "import statsmodels.formula.api as smf\n",
    "import math\n",
    "\n",
    "def rms_error(model, X, y):\n",
    "    y_pred = model.predict(X)\n",
    "    p_pred=np.exp(y_pred)/(1+np.exp(y_pred))\n",
    "    p=np.exp(y)/(1+np.exp(y))\n",
    "    return np.sqrt(np.mean((p - p_pred) ** 2))\n",
    "\n",
    "def rms_error0(model, X, y):\n",
    "    y_pred = model.predict(X)\n",
    "    return np.sqrt(np.mean((y - y_pred) ** 2))\n",
    "\n",
    "#pca = PCA(n_components=3)\n",
    "vars=[0.1,0.2,0.3,0.4,0.5,0.6,0.7,0.8,0.9,0.95,0.99]\n",
    "#vars=[0.8]\n",
    "nfolds=10\n",
    "val_train=np.zeros((len(vars),nfolds))\n",
    "val_test=np.zeros((len(vars),nfolds))\n",
    "for i, var in enumerate(vars):\n",
    "    X_trans=None\n",
    "    for cat in cat_list:\n",
    "        variables=dic.loc[dic.category==cat,'name']\n",
    "        XX=X.loc[:,np.array(variables)].fillna(0)\n",
    "        pca=PCA(var)\n",
    "        XX_trans=pca.fit_transform(XX)\n",
    "        XX_trans=pd.DataFrame(XX_trans)\n",
    "        X_trans=pd.concat([X_trans,XX_trans],axis=1)    \n",
    "    y=rpyrt.RPY_1YR_RT\n",
    "    model=LinearRegression()\n",
    "    model.fit(X_trans,y) \n",
    "    print model.score(X_trans,y) # 0.842 for 80%\n",
    "    cv=cross_val_score(LinearRegression(), X_trans, y ,cv=nfolds,scoring=rms_error)\n",
    "    #print cv.mean() #0.0197086392425 for 80%\n",
    "    val_train[i,:], val_test[i,:]=validation_curve(LinearRegression(), X_trans, y, 'fit_intercept',[True],cv=nfolds,scoring=rms_error)\n"
   ]
  },
  {
   "cell_type": "code",
   "execution_count": 279,
   "metadata": {},
   "outputs": [
    {
     "data": {
      "text/plain": [
       "(35027, 500)"
      ]
     },
     "execution_count": 279,
     "metadata": {},
     "output_type": "execute_result"
    }
   ],
   "source": [
    "X_trans.shape\n",
    "X.shape"
   ]
  },
  {
   "cell_type": "code",
   "execution_count": 221,
   "metadata": {},
   "outputs": [
    {
     "data": {
      "text/plain": [
       "0.87909863899779217"
      ]
     },
     "execution_count": 221,
     "metadata": {},
     "output_type": "execute_result"
    }
   ],
   "source": [
    "lm=LinearRegression().fit(X, y)\n",
    "lm.score(X, y)"
   ]
  },
  {
   "cell_type": "code",
   "execution_count": 226,
   "metadata": {},
   "outputs": [
    {
     "name": "stdout",
     "output_type": "stream",
     "text": [
      "0.01771947633\n"
     ]
    }
   ],
   "source": [
    "cv=cross_val_score(LinearRegression(), X, y ,cv=nfolds,scoring=rms_error)\n",
    "print cv.mean()"
   ]
  },
  {
   "cell_type": "code",
   "execution_count": 230,
   "metadata": {},
   "outputs": [
    {
     "data": {
      "image/png": "[encoded data removed]",
      "text/plain": [
       "<matplotlib.figure.Figure at 0x489ef1d0>"
      ]
     },
     "metadata": {},
     "output_type": "display_data"
    }
   ],
   "source": [
    "def plot_with_err(x, data, **kwargs):\n",
    "    mu, std = data.mean(1), data.std(1)\n",
    "    lines = plt.plot(x, mu, '-', **kwargs)\n",
    "    plt.fill_between(x, mu - std, mu + std, edgecolor='none',\n",
    "                     facecolor=lines[0].get_color(), alpha=0.2)\n",
    "\n",
    "plot_with_err(vars, val_train, label='training scores')\n",
    "plot_with_err(vars, val_test, label='validation scores')\n",
    "plt.xlabel('Variance'); plt.ylabel('rms error')\n",
    "plt.legend();"
   ]
  },
  {
   "cell_type": "markdown",
   "metadata": {},
   "source": [
    "### Random Forest"
   ]
  },
  {
   "cell_type": "code",
   "execution_count": 22,
   "metadata": {
    "collapsed": true
   },
   "outputs": [],
   "source": [
    "from sklearn.ensemble import RandomForestRegressor"
   ]
  },
  {
   "cell_type": "code",
   "execution_count": 23,
   "metadata": {},
   "outputs": [
    {
     "name": "stderr",
     "output_type": "stream",
     "text": [
      "C:\\Users\\b_luo\\AppData\\Local\\Continuum\\anaconda2\\lib\\site-packages\\sklearn\\ensemble\\forest.py:720: UserWarning: Some inputs do not have OOB scores. This probably means too few trees were used to compute any reliable oob estimates.\n",
      "  warn(\"Some inputs do not have OOB scores. \"\n"
     ]
    }
   ],
   "source": [
    "rf=RandomForestRegressor(20,oob_score = True).fit(X, y)"
   ]
  },
  {
   "cell_type": "code",
   "execution_count": 33,
   "metadata": {},
   "outputs": [
    {
     "data": {
      "text/plain": [
       "Index([u'SCH_DEG', u'MAIN', u'NUMBRANCH', u'PREDDEG', u'HIGHDEG', u'CONTROL',\n",
       "       u'SATVR25', u'SATVR75', u'SATMT25', u'SATMT75',\n",
       "       ...\n",
       "       u'PCT90_EARN_WNE_P8', u'SD_EARN_WNE_P8', u'GT_25K_P8',\n",
       "       u'MN_EARN_WNE_P9', u'SD_EARN_WNE_P9', u'GT_25K_P9', u'DEBT_MDN_SUPP',\n",
       "       u'C100_4', u'D100_4', u'ICLEVEL'],\n",
       "      dtype='object', length=500)"
      ]
     },
     "execution_count": 33,
     "metadata": {},
     "output_type": "execute_result"
    }
   ],
   "source": []
  },
  {
   "cell_type": "code",
   "execution_count": 24,
   "metadata": {
    "collapsed": true
   },
   "outputs": [],
   "source": [
    "importances = rf.feature_importances_\n",
    "std = np.std([tree.feature_importances_ for tree in rf.estimators_],\n",
    "             axis=0)\n",
    "indices = np.argsort(importances)[::-1]"
   ]
  },
  {
   "cell_type": "code",
   "execution_count": 26,
   "metadata": {},
   "outputs": [
    {
     "name": "stdout",
     "output_type": "stream",
     "text": [
      "1. feature 447: FAMINC (0.491971)\n",
      "2. feature 442: PELL_EVER (0.140024)\n",
      "3. feature 436: FEMALE_DEBT_MDN (0.057423)\n",
      "4. feature 59: UGDS_BLACK (0.036838)\n",
      "5. feature 448: MD_FAMINC (0.026233)\n",
      "6. feature 85: PCTPELL (0.015120)\n",
      "7. feature 104: WDRAW_ORIG_YR2_RT (0.011793)\n",
      "8. feature 61: UGDS_WHITENH (0.009127)\n",
      "9. feature 152: PELL_ENRL_ORIG_YR2_RT (0.007091)\n",
      "10. feature 405: INC_PCT_LO (0.006919)\n"
     ]
    }
   ],
   "source": [
    "num_im=10\n",
    "for f in range(num_im):\n",
    "    print(\"%d. feature %d: %s (%f)\" % (f + 1, indices[f], X.columns[indices[f]], importances[indices[f]]))"
   ]
  },
  {
   "cell_type": "code",
   "execution_count": 27,
   "metadata": {},
   "outputs": [
    {
     "data": {
      "image/png": "[encoded data removed]",
      "text/plain": [
       "<matplotlib.figure.Figure at 0x2a778f28>"
      ]
     },
     "metadata": {},
     "output_type": "display_data"
    }
   ],
   "source": [
    "\n",
    "#num_im=X.shape[1]\n",
    "indices2=indices[0:num_im]\n",
    "# Plot the feature importances of the forest\n",
    "fig=plt.figure()\n",
    "plt.bar(range(num_im), importances[indices2],\n",
    "       color=\"lightblue\", yerr=std[indices2], align=\"center\")\n",
    "plt.xticks(range(num_im), X.columns[indices2])\n",
    "plt.xlim([-1, num_im])\n",
    "plt.setp(plt.gca().get_xticklabels(), rotation=30, horizontalalignment='right')\n",
    "plt.show()"
   ]
  },
  {
   "cell_type": "code",
   "execution_count": 276,
   "metadata": {},
   "outputs": [
    {
     "name": "stdout",
     "output_type": "stream",
     "text": [
      "0.0152859906364\n"
     ]
    }
   ],
   "source": [
    "cv=cross_val_score(rf, X, y ,cv=10,scoring=rms_error)\n",
    "print cv.mean()"
   ]
  },
  {
   "cell_type": "code",
   "execution_count": 49,
   "metadata": {
    "collapsed": true
   },
   "outputs": [],
   "source": [
    "#sorted(rf.feature_importances_,reverse=True)\n",
    "order_importance=sorted(range(len(rf.feature_importances_)), key=rf.feature_importances_.__getitem__,reverse=True)\n",
    "feature_rf=X.columns[order_importance[0:10]]\n",
    "#rf.feature_importances_[3]\n",
    "#rf.feature_importances_.mean()"
   ]
  },
  {
   "cell_type": "code",
   "execution_count": 52,
   "metadata": {},
   "outputs": [
    {
     "data": {
      "text/html": [
       "<div>\n",
       "<style>\n",
       "    .dataframe thead tr:only-child th {\n",
       "        text-align: right;\n",
       "    }\n",
       "\n",
       "    .dataframe thead th {\n",
       "        text-align: left;\n",
       "    }\n",
       "\n",
       "    .dataframe tbody tr th {\n",
       "        vertical-align: top;\n",
       "    }\n",
       "</style>\n",
       "<table border=\"1\" class=\"dataframe\">\n",
       "  <thead>\n",
       "    <tr style=\"text-align: right;\">\n",
       "      <th></th>\n",
       "      <th>desc</th>\n",
       "      <th>category</th>\n",
       "      <th>name</th>\n",
       "    </tr>\n",
       "  </thead>\n",
       "  <tbody>\n",
       "    <tr>\n",
       "      <th>531</th>\n",
       "      <td>Total share of enrollment of undergraduate degree-seeking students who are black</td>\n",
       "      <td>student</td>\n",
       "      <td>UGDS_BLACK</td>\n",
       "    </tr>\n",
       "    <tr>\n",
       "      <th>539</th>\n",
       "      <td>Total share of enrollment of undergraduate degree-seeking students who are white non-Hispanic</td>\n",
       "      <td>student</td>\n",
       "      <td>UGDS_WHITENH</td>\n",
       "    </tr>\n",
       "    <tr>\n",
       "      <th>624</th>\n",
       "      <td>Percentage of undergraduates who receive a Pell Grant</td>\n",
       "      <td>aid</td>\n",
       "      <td>PCTPELL</td>\n",
       "    </tr>\n",
       "    <tr>\n",
       "      <th>675</th>\n",
       "      <td>Percent withdrawn from original institution within 2 years</td>\n",
       "      <td>completion</td>\n",
       "      <td>WDRAW_ORIG_YR2_RT</td>\n",
       "    </tr>\n",
       "    <tr>\n",
       "      <th>782</th>\n",
       "      <td>Percent of students who received a Pell Grant at the institution and who were still enrolled at original institution within 2 years</td>\n",
       "      <td>completion</td>\n",
       "      <td>PELL_ENRL_ORIG_YR2_RT</td>\n",
       "    </tr>\n",
       "    <tr>\n",
       "      <th>1637</th>\n",
       "      <td>Percentage of aided students whose family income is between $0-$30,000</td>\n",
       "      <td>student</td>\n",
       "      <td>INC_PCT_LO</td>\n",
       "    </tr>\n",
       "    <tr>\n",
       "      <th>1743</th>\n",
       "      <td>The median debt for female students</td>\n",
       "      <td>aid</td>\n",
       "      <td>FEMALE_DEBT_MDN</td>\n",
       "    </tr>\n",
       "    <tr>\n",
       "      <th>1835</th>\n",
       "      <td>Share of students who received a Pell Grant while in school</td>\n",
       "      <td>student</td>\n",
       "      <td>PELL_EVER</td>\n",
       "    </tr>\n",
       "    <tr>\n",
       "      <th>1844</th>\n",
       "      <td>Average family income in real 2015 dollars</td>\n",
       "      <td>student</td>\n",
       "      <td>FAMINC</td>\n",
       "    </tr>\n",
       "    <tr>\n",
       "      <th>1845</th>\n",
       "      <td>Median family income in real 2015 dollars</td>\n",
       "      <td>student</td>\n",
       "      <td>MD_FAMINC</td>\n",
       "    </tr>\n",
       "  </tbody>\n",
       "</table>\n",
       "</div>"
      ],
      "text/plain": [
       "                                                                                                                                     desc  \\\n",
       "531                                                      Total share of enrollment of undergraduate degree-seeking students who are black   \n",
       "539                                         Total share of enrollment of undergraduate degree-seeking students who are white non-Hispanic   \n",
       "624                                                                                 Percentage of undergraduates who receive a Pell Grant   \n",
       "675                                                                            Percent withdrawn from original institution within 2 years   \n",
       "782   Percent of students who received a Pell Grant at the institution and who were still enrolled at original institution within 2 years   \n",
       "1637                                                               Percentage of aided students whose family income is between $0-$30,000   \n",
       "1743                                                                                                  The median debt for female students   \n",
       "1835                                                                          Share of students who received a Pell Grant while in school   \n",
       "1844                                                                                           Average family income in real 2015 dollars   \n",
       "1845                                                                                            Median family income in real 2015 dollars   \n",
       "\n",
       "        category                   name  \n",
       "531      student             UGDS_BLACK  \n",
       "539      student           UGDS_WHITENH  \n",
       "624          aid                PCTPELL  \n",
       "675   completion      WDRAW_ORIG_YR2_RT  \n",
       "782   completion  PELL_ENRL_ORIG_YR2_RT  \n",
       "1637     student             INC_PCT_LO  \n",
       "1743         aid        FEMALE_DEBT_MDN  \n",
       "1835     student              PELL_EVER  \n",
       "1844     student                 FAMINC  \n",
       "1845     student              MD_FAMINC  "
      ]
     },
     "execution_count": 52,
     "metadata": {},
     "output_type": "execute_result"
    }
   ],
   "source": [
    "pd.options.display.max_colwidth = 1000\n",
    "dic.loc[dic.name.isin(feature_rf),['desc','category','name']]"
   ]
  },
  {
   "cell_type": "code",
   "execution_count": null,
   "metadata": {
    "collapsed": true
   },
   "outputs": [],
   "source": [
    "dic.loc[dic.name.isin(feature_rf),:].groupby(['category']).count()"
   ]
  },
  {
   "cell_type": "markdown",
   "metadata": {},
   "source": [
    "### Elatstic Net"
   ]
  },
  {
   "cell_type": "code",
   "execution_count": 207,
   "metadata": {},
   "outputs": [
    {
     "name": "stdout",
     "output_type": "stream",
     "text": [
      "Help on class ElasticNetCV in module sklearn.linear_model.coordinate_descent:\n",
      "\n",
      "class ElasticNetCV(LinearModelCV, sklearn.base.RegressorMixin)\n",
      " |  Elastic Net model with iterative fitting along a regularization path\n",
      " |  \n",
      " |  The best model is selected by cross-validation.\n",
      " |  \n",
      " |  Read more in the :ref:`User Guide <elastic_net>`.\n",
      " |  \n",
      " |  Parameters\n",
      " |  ----------\n",
      " |  l1_ratio : float or array of floats, optional\n",
      " |      float between 0 and 1 passed to ElasticNet (scaling between\n",
      " |      l1 and l2 penalties). For ``l1_ratio = 0``\n",
      " |      the penalty is an L2 penalty. For ``l1_ratio = 1`` it is an L1 penalty.\n",
      " |      For ``0 < l1_ratio < 1``, the penalty is a combination of L1 and L2\n",
      " |      This parameter can be a list, in which case the different\n",
      " |      values are tested by cross-validation and the one giving the best\n",
      " |      prediction score is used. Note that a good choice of list of\n",
      " |      values for l1_ratio is often to put more values close to 1\n",
      " |      (i.e. Lasso) and less close to 0 (i.e. Ridge), as in ``[.1, .5, .7,\n",
      " |      .9, .95, .99, 1]``\n",
      " |  \n",
      " |  eps : float, optional\n",
      " |      Length of the path. ``eps=1e-3`` means that\n",
      " |      ``alpha_min / alpha_max = 1e-3``.\n",
      " |  \n",
      " |  n_alphas : int, optional\n",
      " |      Number of alphas along the regularization path, used for each l1_ratio.\n",
      " |  \n",
      " |  alphas : numpy array, optional\n",
      " |      List of alphas where to compute the models.\n",
      " |      If None alphas are set automatically\n",
      " |  \n",
      " |  fit_intercept : boolean\n",
      " |      whether to calculate the intercept for this model. If set\n",
      " |      to false, no intercept will be used in calculations\n",
      " |      (e.g. data is expected to be already centered).\n",
      " |  \n",
      " |  normalize : boolean, optional, default False\n",
      " |      This parameter is ignored when ``fit_intercept`` is set to False.\n",
      " |      If True, the regressors X will be normalized before regression by\n",
      " |      subtracting the mean and dividing by the l2-norm.\n",
      " |      If you wish to standardize, please use\n",
      " |      :class:`sklearn.preprocessing.StandardScaler` before calling ``fit``\n",
      " |      on an estimator with ``normalize=False``.\n",
      " |  \n",
      " |  precompute : True | False | 'auto' | array-like\n",
      " |      Whether to use a precomputed Gram matrix to speed up\n",
      " |      calculations. If set to ``'auto'`` let us decide. The Gram\n",
      " |      matrix can also be passed as argument.\n",
      " |  \n",
      " |  max_iter : int, optional\n",
      " |      The maximum number of iterations\n",
      " |  \n",
      " |  tol : float, optional\n",
      " |      The tolerance for the optimization: if the updates are\n",
      " |      smaller than ``tol``, the optimization code checks the\n",
      " |      dual gap for optimality and continues until it is smaller\n",
      " |      than ``tol``.\n",
      " |  \n",
      " |  cv : int, cross-validation generator or an iterable, optional\n",
      " |      Determines the cross-validation splitting strategy.\n",
      " |      Possible inputs for cv are:\n",
      " |  \n",
      " |      - None, to use the default 3-fold cross-validation,\n",
      " |      - integer, to specify the number of folds.\n",
      " |      - An object to be used as a cross-validation generator.\n",
      " |      - An iterable yielding train/test splits.\n",
      " |  \n",
      " |      For integer/None inputs, :class:`KFold` is used.\n",
      " |  \n",
      " |      Refer :ref:`User Guide <cross_validation>` for the various\n",
      " |      cross-validation strategies that can be used here.\n",
      " |  \n",
      " |  copy_X : boolean, optional, default True\n",
      " |      If ``True``, X will be copied; else, it may be overwritten.\n",
      " |  \n",
      " |  verbose : bool or integer\n",
      " |      Amount of verbosity.\n",
      " |  \n",
      " |  n_jobs : integer, optional\n",
      " |      Number of CPUs to use during the cross validation. If ``-1``, use\n",
      " |      all the CPUs.\n",
      " |  \n",
      " |  positive : bool, optional\n",
      " |      When set to ``True``, forces the coefficients to be positive.\n",
      " |  \n",
      " |  random_state : int, RandomState instance or None, optional, default None\n",
      " |      The seed of the pseudo random number generator that selects a random\n",
      " |      feature to update.  If int, random_state is the seed used by the random\n",
      " |      number generator; If RandomState instance, random_state is the random\n",
      " |      number generator; If None, the random number generator is the\n",
      " |      RandomState instance used by `np.random`. Used when ``selection`` ==\n",
      " |      'random'.\n",
      " |  \n",
      " |  selection : str, default 'cyclic'\n",
      " |      If set to 'random', a random coefficient is updated every iteration\n",
      " |      rather than looping over features sequentially by default. This\n",
      " |      (setting to 'random') often leads to significantly faster convergence\n",
      " |      especially when tol is higher than 1e-4.\n",
      " |  \n",
      " |  Attributes\n",
      " |  ----------\n",
      " |  alpha_ : float\n",
      " |      The amount of penalization chosen by cross validation\n",
      " |  \n",
      " |  l1_ratio_ : float\n",
      " |      The compromise between l1 and l2 penalization chosen by\n",
      " |      cross validation\n",
      " |  \n",
      " |  coef_ : array, shape (n_features,) | (n_targets, n_features)\n",
      " |      Parameter vector (w in the cost function formula),\n",
      " |  \n",
      " |  intercept_ : float | array, shape (n_targets, n_features)\n",
      " |      Independent term in the decision function.\n",
      " |  \n",
      " |  mse_path_ : array, shape (n_l1_ratio, n_alpha, n_folds)\n",
      " |      Mean square error for the test set on each fold, varying l1_ratio and\n",
      " |      alpha.\n",
      " |  \n",
      " |  alphas_ : numpy array, shape (n_alphas,) or (n_l1_ratio, n_alphas)\n",
      " |      The grid of alphas used for fitting, for each l1_ratio.\n",
      " |  \n",
      " |  n_iter_ : int\n",
      " |      number of iterations run by the coordinate descent solver to reach\n",
      " |      the specified tolerance for the optimal alpha.\n",
      " |  \n",
      " |  Examples\n",
      " |  --------\n",
      " |  >>> from sklearn.linear_model import ElasticNetCV\n",
      " |  >>> from sklearn.datasets import make_regression\n",
      " |  >>>\n",
      " |  >>> X, y = make_regression(n_features=2, random_state=0)\n",
      " |  >>> regr = ElasticNetCV(cv=5, random_state=0)\n",
      " |  >>> regr.fit(X, y)\n",
      " |  ElasticNetCV(alphas=None, copy_X=True, cv=5, eps=0.001, fit_intercept=True,\n",
      " |         l1_ratio=0.5, max_iter=1000, n_alphas=100, n_jobs=1,\n",
      " |         normalize=False, positive=False, precompute='auto', random_state=0,\n",
      " |         selection='cyclic', tol=0.0001, verbose=0)\n",
      " |  >>> print(regr.alpha_) # doctest: +ELLIPSIS\n",
      " |  0.19947279427\n",
      " |  >>> print(regr.intercept_) # doctest: +ELLIPSIS\n",
      " |  0.398882965428\n",
      " |  >>> print(regr.predict([[0, 0]])) # doctest: +ELLIPSIS\n",
      " |  [ 0.39888297]\n",
      " |  \n",
      " |  \n",
      " |  Notes\n",
      " |  -----\n",
      " |  For an example, see\n",
      " |  :ref:`examples/linear_model/plot_lasso_model_selection.py\n",
      " |  <sphx_glr_auto_examples_linear_model_plot_lasso_model_selection.py>`.\n",
      " |  \n",
      " |  To avoid unnecessary memory duplication the X argument of the fit method\n",
      " |  should be directly passed as a Fortran-contiguous numpy array.\n",
      " |  \n",
      " |  The parameter l1_ratio corresponds to alpha in the glmnet R package\n",
      " |  while alpha corresponds to the lambda parameter in glmnet.\n",
      " |  More specifically, the optimization objective is::\n",
      " |  \n",
      " |      1 / (2 * n_samples) * ||y - Xw||^2_2\n",
      " |      + alpha * l1_ratio * ||w||_1\n",
      " |      + 0.5 * alpha * (1 - l1_ratio) * ||w||^2_2\n",
      " |  \n",
      " |  If you are interested in controlling the L1 and L2 penalty\n",
      " |  separately, keep in mind that this is equivalent to::\n",
      " |  \n",
      " |      a * L1 + b * L2\n",
      " |  \n",
      " |  for::\n",
      " |  \n",
      " |      alpha = a + b and l1_ratio = a / (a + b).\n",
      " |  \n",
      " |  See also\n",
      " |  --------\n",
      " |  enet_path\n",
      " |  ElasticNet\n",
      " |  \n",
      " |  Method resolution order:\n",
      " |      ElasticNetCV\n",
      " |      LinearModelCV\n",
      " |      abc.NewBase\n",
      " |      sklearn.linear_model.base.LinearModel\n",
      " |      abc.NewBase\n",
      " |      sklearn.base.BaseEstimator\n",
      " |      sklearn.base.RegressorMixin\n",
      " |      __builtin__.object\n",
      " |  \n",
      " |  Methods defined here:\n",
      " |  \n",
      " |  __init__(self, l1_ratio=0.5, eps=0.001, n_alphas=100, alphas=None, fit_intercept=True, normalize=False, precompute='auto', max_iter=1000, tol=0.0001, cv=None, copy_X=True, verbose=0, n_jobs=1, positive=False, random_state=None, selection='cyclic')\n",
      " |  \n",
      " |  ----------------------------------------------------------------------\n",
      " |  Static methods defined here:\n",
      " |  \n",
      " |  path = enet_path(X, y, l1_ratio=0.5, eps=0.001, n_alphas=100, alphas=None, precompute='auto', Xy=None, copy_X=True, coef_init=None, verbose=False, return_n_iter=False, positive=False, check_input=True, **params)\n",
      " |      Compute elastic net path with coordinate descent\n",
      " |      \n",
      " |      The elastic net optimization function varies for mono and multi-outputs.\n",
      " |      \n",
      " |      For mono-output tasks it is::\n",
      " |      \n",
      " |          1 / (2 * n_samples) * ||y - Xw||^2_2\n",
      " |          + alpha * l1_ratio * ||w||_1\n",
      " |          + 0.5 * alpha * (1 - l1_ratio) * ||w||^2_2\n",
      " |      \n",
      " |      For multi-output tasks it is::\n",
      " |      \n",
      " |          (1 / (2 * n_samples)) * ||Y - XW||^Fro_2\n",
      " |          + alpha * l1_ratio * ||W||_21\n",
      " |          + 0.5 * alpha * (1 - l1_ratio) * ||W||_Fro^2\n",
      " |      \n",
      " |      Where::\n",
      " |      \n",
      " |          ||W||_21 = \\sum_i \\sqrt{\\sum_j w_{ij}^2}\n",
      " |      \n",
      " |      i.e. the sum of norm of each row.\n",
      " |      \n",
      " |      Read more in the :ref:`User Guide <elastic_net>`.\n",
      " |      \n",
      " |      Parameters\n",
      " |      ----------\n",
      " |      X : {array-like}, shape (n_samples, n_features)\n",
      " |          Training data. Pass directly as Fortran-contiguous data to avoid\n",
      " |          unnecessary memory duplication. If ``y`` is mono-output then ``X``\n",
      " |          can be sparse.\n",
      " |      \n",
      " |      y : ndarray, shape (n_samples,) or (n_samples, n_outputs)\n",
      " |          Target values\n",
      " |      \n",
      " |      l1_ratio : float, optional\n",
      " |          float between 0 and 1 passed to elastic net (scaling between\n",
      " |          l1 and l2 penalties). ``l1_ratio=1`` corresponds to the Lasso\n",
      " |      \n",
      " |      eps : float\n",
      " |          Length of the path. ``eps=1e-3`` means that\n",
      " |          ``alpha_min / alpha_max = 1e-3``\n",
      " |      \n",
      " |      n_alphas : int, optional\n",
      " |          Number of alphas along the regularization path\n",
      " |      \n",
      " |      alphas : ndarray, optional\n",
      " |          List of alphas where to compute the models.\n",
      " |          If None alphas are set automatically\n",
      " |      \n",
      " |      precompute : True | False | 'auto' | array-like\n",
      " |          Whether to use a precomputed Gram matrix to speed up\n",
      " |          calculations. If set to ``'auto'`` let us decide. The Gram\n",
      " |          matrix can also be passed as argument.\n",
      " |      \n",
      " |      Xy : array-like, optional\n",
      " |          Xy = np.dot(X.T, y) that can be precomputed. It is useful\n",
      " |          only when the Gram matrix is precomputed.\n",
      " |      \n",
      " |      copy_X : boolean, optional, default True\n",
      " |          If ``True``, X will be copied; else, it may be overwritten.\n",
      " |      \n",
      " |      coef_init : array, shape (n_features, ) | None\n",
      " |          The initial values of the coefficients.\n",
      " |      \n",
      " |      verbose : bool or integer\n",
      " |          Amount of verbosity.\n",
      " |      \n",
      " |      return_n_iter : bool\n",
      " |          whether to return the number of iterations or not.\n",
      " |      \n",
      " |      positive : bool, default False\n",
      " |          If set to True, forces coefficients to be positive.\n",
      " |          (Only allowed when ``y.ndim == 1``).\n",
      " |      \n",
      " |      check_input : bool, default True\n",
      " |          Skip input validation checks, including the Gram matrix when provided\n",
      " |          assuming there are handled by the caller when check_input=False.\n",
      " |      \n",
      " |      **params : kwargs\n",
      " |          keyword arguments passed to the coordinate descent solver.\n",
      " |      \n",
      " |      Returns\n",
      " |      -------\n",
      " |      alphas : array, shape (n_alphas,)\n",
      " |          The alphas along the path where models are computed.\n",
      " |      \n",
      " |      coefs : array, shape (n_features, n_alphas) or             (n_outputs, n_features, n_alphas)\n",
      " |          Coefficients along the path.\n",
      " |      \n",
      " |      dual_gaps : array, shape (n_alphas,)\n",
      " |          The dual gaps at the end of the optimization for each alpha.\n",
      " |      \n",
      " |      n_iters : array-like, shape (n_alphas,)\n",
      " |          The number of iterations taken by the coordinate descent optimizer to\n",
      " |          reach the specified tolerance for each alpha.\n",
      " |          (Is returned when ``return_n_iter`` is set to True).\n",
      " |      \n",
      " |      Notes\n",
      " |      -----\n",
      " |      For an example, see\n",
      " |      :ref:`examples/linear_model/plot_lasso_coordinate_descent_path.py\n",
      " |      <sphx_glr_auto_examples_linear_model_plot_lasso_coordinate_descent_path.py>`.\n",
      " |      \n",
      " |      See also\n",
      " |      --------\n",
      " |      MultiTaskElasticNet\n",
      " |      MultiTaskElasticNetCV\n",
      " |      ElasticNet\n",
      " |      ElasticNetCV\n",
      " |  \n",
      " |  ----------------------------------------------------------------------\n",
      " |  Data and other attributes defined here:\n",
      " |  \n",
      " |  __abstractmethods__ = frozenset([])\n",
      " |  \n",
      " |  ----------------------------------------------------------------------\n",
      " |  Methods inherited from LinearModelCV:\n",
      " |  \n",
      " |  fit(self, X, y)\n",
      " |      Fit linear model with coordinate descent\n",
      " |      \n",
      " |      Fit is on grid of alphas and best alpha estimated by cross-validation.\n",
      " |      \n",
      " |      Parameters\n",
      " |      ----------\n",
      " |      X : {array-like}, shape (n_samples, n_features)\n",
      " |          Training data. Pass directly as Fortran-contiguous data\n",
      " |          to avoid unnecessary memory duplication. If y is mono-output,\n",
      " |          X can be sparse.\n",
      " |      \n",
      " |      y : array-like, shape (n_samples,) or (n_samples, n_targets)\n",
      " |          Target values\n",
      " |  \n",
      " |  ----------------------------------------------------------------------\n",
      " |  Methods inherited from sklearn.linear_model.base.LinearModel:\n",
      " |  \n",
      " |  predict(self, X)\n",
      " |      Predict using the linear model\n",
      " |      \n",
      " |      Parameters\n",
      " |      ----------\n",
      " |      X : {array-like, sparse matrix}, shape = (n_samples, n_features)\n",
      " |          Samples.\n",
      " |      \n",
      " |      Returns\n",
      " |      -------\n",
      " |      C : array, shape = (n_samples,)\n",
      " |          Returns predicted values.\n",
      " |  \n",
      " |  ----------------------------------------------------------------------\n",
      " |  Methods inherited from sklearn.base.BaseEstimator:\n",
      " |  \n",
      " |  __getstate__(self)\n",
      " |  \n",
      " |  __repr__(self)\n",
      " |  \n",
      " |  __setstate__(self, state)\n",
      " |  \n",
      " |  get_params(self, deep=True)\n",
      " |      Get parameters for this estimator.\n",
      " |      \n",
      " |      Parameters\n",
      " |      ----------\n",
      " |      deep : boolean, optional\n",
      " |          If True, will return the parameters for this estimator and\n",
      " |          contained subobjects that are estimators.\n",
      " |      \n",
      " |      Returns\n",
      " |      -------\n",
      " |      params : mapping of string to any\n",
      " |          Parameter names mapped to their values.\n",
      " |  \n",
      " |  set_params(self, **params)\n",
      " |      Set the parameters of this estimator.\n",
      " |      \n",
      " |      The method works on simple estimators as well as on nested objects\n",
      " |      (such as pipelines). The latter have parameters of the form\n",
      " |      ``<component>__<parameter>`` so that it's possible to update each\n",
      " |      component of a nested object.\n",
      " |      \n",
      " |      Returns\n",
      " |      -------\n",
      " |      self\n",
      " |  \n",
      " |  ----------------------------------------------------------------------\n",
      " |  Data descriptors inherited from sklearn.base.BaseEstimator:\n",
      " |  \n",
      " |  __dict__\n",
      " |      dictionary for instance variables (if defined)\n",
      " |  \n",
      " |  __weakref__\n",
      " |      list of weak references to the object (if defined)\n",
      " |  \n",
      " |  ----------------------------------------------------------------------\n",
      " |  Methods inherited from sklearn.base.RegressorMixin:\n",
      " |  \n",
      " |  score(self, X, y, sample_weight=None)\n",
      " |      Returns the coefficient of determination R^2 of the prediction.\n",
      " |      \n",
      " |      The coefficient R^2 is defined as (1 - u/v), where u is the residual\n",
      " |      sum of squares ((y_true - y_pred) ** 2).sum() and v is the total\n",
      " |      sum of squares ((y_true - y_true.mean()) ** 2).sum().\n",
      " |      The best possible score is 1.0 and it can be negative (because the\n",
      " |      model can be arbitrarily worse). A constant model that always\n",
      " |      predicts the expected value of y, disregarding the input features,\n",
      " |      would get a R^2 score of 0.0.\n",
      " |      \n",
      " |      Parameters\n",
      " |      ----------\n",
      " |      X : array-like, shape = (n_samples, n_features)\n",
      " |          Test samples.\n",
      " |      \n",
      " |      y : array-like, shape = (n_samples) or (n_samples, n_outputs)\n",
      " |          True values for X.\n",
      " |      \n",
      " |      sample_weight : array-like, shape = [n_samples], optional\n",
      " |          Sample weights.\n",
      " |      \n",
      " |      Returns\n",
      " |      -------\n",
      " |      score : float\n",
      " |          R^2 of self.predict(X) wrt. y.\n",
      "\n"
     ]
    }
   ],
   "source": [
    "help(ElasticNetCV)"
   ]
  },
  {
   "cell_type": "code",
   "execution_count": 21,
   "metadata": {},
   "outputs": [
    {
     "data": {
      "text/plain": [
       "(-0.24734665521511653,\n",
       " 5.2303843403043304,\n",
       " -0.21806300513525634,\n",
       " 0.32140102818161398)"
      ]
     },
     "execution_count": 21,
     "metadata": {},
     "output_type": "execute_result"
    },
    {
     "data": {
      "image/png": "[encoded data removed]",
      "text/plain": [
       "<matplotlib.figure.Figure at 0x58ecd4a8>"
      ]
     },
     "metadata": {},
     "output_type": "display_data"
    }
   ],
   "source": [
    "from sklearn.linear_model import lasso_path, enet_path\n",
    "from itertools import cycle\n",
    "alphas_enet, coefs_enet, _ = enet_path(\n",
    "    X, y, \n",
    "    eps=5e-6,\n",
    "    #eps=5e-3,\n",
    "    l1_ratio=0.9,\n",
    "    #alphas=[0.0001,0.02,0.03,0.05]\n",
    "    #alphas=list(regr.alphas_[4,:]),\n",
    "    fit_intercept=True\n",
    ") # was -6\n",
    "plt.figure(1)\n",
    "ax = plt.gca()\n",
    "\n",
    "colors = cycle(['b', 'r', 'g', 'c', 'k'])\n",
    "neg_log_alphas_enet = -np.log10(alphas_enet)\n",
    "index=neg_log_alphas_enet>0\n",
    "for coef_e, c in zip(coefs_enet, colors):\n",
    "    plt.plot(neg_log_alphas_enet[index], coef_e[index], c=c)\n",
    "\n",
    "plt.xlabel(r'$-\\log(\\lambda)$')\n",
    "plt.ylabel('coefficients')\n",
    "plt.title('')\n",
    "#plt.axvline(-np.log10(0.00320730087732),linestyle='--',color='g')\n",
    "plt.axvline(-np.log10(4.06465829761e-05),linestyle='--',color='g') # for eps 5e-6\n",
    "plt.axvline(-np.log10(0.0171476155889),linestyle='--',color='b') # for eps 5e-3\n",
    "plt.axis('tight')\n"
   ]
  },
  {
   "cell_type": "code",
   "execution_count": 270,
   "metadata": {},
   "outputs": [
    {
     "data": {
      "text/plain": [
       "ElasticNetCV(alphas=[0.0171476155889], copy_X=True, cv=5, eps=0.001,\n",
       "       fit_intercept=True, l1_ratio=0.9, max_iter=1000, n_alphas=100,\n",
       "       n_jobs=1, normalize=False, positive=False, precompute='auto',\n",
       "       random_state=0, selection='cyclic', tol=0.0001, verbose=0)"
      ]
     },
     "execution_count": 270,
     "metadata": {},
     "output_type": "execute_result"
    }
   ],
   "source": [
    "from sklearn.linear_model import ElasticNetCV\n",
    "regr = ElasticNetCV(l1_ratio=0.9,cv=5, random_state=0\n",
    "                    ,alphas=[0.0171476155889]\n",
    "                    #,alphas=alphas_enet \n",
    "                   )\n",
    "regr.fit(X, y)\n"
   ]
  },
  {
   "cell_type": "code",
   "execution_count": 271,
   "metadata": {},
   "outputs": [
    {
     "name": "stdout",
     "output_type": "stream",
     "text": [
      "0.0171476155889\n"
     ]
    },
    {
     "data": {
      "text/plain": [
       "(26L,)"
      ]
     },
     "execution_count": 271,
     "metadata": {},
     "output_type": "execute_result"
    }
   ],
   "source": [
    "print regr.alpha_\n",
    "regr.l1_ratio_\n",
    "regr.coef_[regr.coef_!=0].shape # 432 for eps 5e-6; 26 for eps 5e-3\n",
    "#regr.mse_path_[59]"
   ]
  },
  {
   "cell_type": "code",
   "execution_count": 179,
   "metadata": {},
   "outputs": [
    {
     "data": {
      "text/plain": [
       "0.004147058823529412"
      ]
     },
     "execution_count": 179,
     "metadata": {},
     "output_type": "execute_result"
    }
   ],
   "source": []
  },
  {
   "cell_type": "code",
   "execution_count": 263,
   "metadata": {
    "scrolled": true
   },
   "outputs": [
    {
     "name": "stdout",
     "output_type": "stream",
     "text": [
      "0.0177268817896\n"
     ]
    }
   ],
   "source": [
    "model_en=ElasticNetCV(l1_ratio=[0.9],cv=5, random_state=0,\n",
    "                      alphas=alphas_enet  # for eps 5e-5\n",
    "                      #alphas=[4.06465829761e-05] # for eps 5e-3\n",
    "                     )\n",
    "cv=cross_val_score(model_en, X, y ,cv=nfolds,scoring=rms_error)\n",
    "print cv.mean() # 0.0177268817896 for eps 5e-6; 0.0222588239378 for eps 5e-3"
   ]
  },
  {
   "cell_type": "code",
   "execution_count": 272,
   "metadata": {},
   "outputs": [
    {
     "name": "stdout",
     "output_type": "stream",
     "text": [
      "26\n"
     ]
    }
   ],
   "source": [
    "feature_en=sorted(range(len(regr. coef_ )), key=abs(regr. coef_ ).__getitem__,reverse=True)\n",
    "size=len(regr.coef_[abs(regr. coef_ )>1e-6]) #26\n",
    "print size"
   ]
  },
  {
   "cell_type": "code",
   "execution_count": 273,
   "metadata": {},
   "outputs": [
    {
     "data": {
      "text/html": [
       "<div>\n",
       "<style>\n",
       "    .dataframe thead tr:only-child th {\n",
       "        text-align: right;\n",
       "    }\n",
       "\n",
       "    .dataframe thead th {\n",
       "        text-align: left;\n",
       "    }\n",
       "\n",
       "    .dataframe tbody tr th {\n",
       "        vertical-align: top;\n",
       "    }\n",
       "</style>\n",
       "<table border=\"1\" class=\"dataframe\">\n",
       "  <thead>\n",
       "    <tr style=\"text-align: right;\">\n",
       "      <th></th>\n",
       "      <th>desc</th>\n",
       "      <th>category</th>\n",
       "      <th>name</th>\n",
       "    </tr>\n",
       "  </thead>\n",
       "  <tbody>\n",
       "    <tr>\n",
       "      <th>25</th>\n",
       "      <td>Control of institution</td>\n",
       "      <td>school</td>\n",
       "      <td>CONTROL</td>\n",
       "    </tr>\n",
       "    <tr>\n",
       "      <th>531</th>\n",
       "      <td>Total share of enrollment of undergraduate degree-seeking students who are black</td>\n",
       "      <td>student</td>\n",
       "      <td>UGDS_BLACK</td>\n",
       "    </tr>\n",
       "    <tr>\n",
       "      <th>539</th>\n",
       "      <td>Total share of enrollment of undergraduate degree-seeking students who are white non-Hispanic</td>\n",
       "      <td>student</td>\n",
       "      <td>UGDS_WHITENH</td>\n",
       "    </tr>\n",
       "    <tr>\n",
       "      <th>624</th>\n",
       "      <td>Percentage of undergraduates who receive a Pell Grant</td>\n",
       "      <td>aid</td>\n",
       "      <td>PCTPELL</td>\n",
       "    </tr>\n",
       "    <tr>\n",
       "      <th>675</th>\n",
       "      <td>Percent withdrawn from original institution within 2 years</td>\n",
       "      <td>completion</td>\n",
       "      <td>WDRAW_ORIG_YR2_RT</td>\n",
       "    </tr>\n",
       "    <tr>\n",
       "      <th>677</th>\n",
       "      <td>Percent who transferred to a 2-year institution and withdrew within 2 years</td>\n",
       "      <td>completion</td>\n",
       "      <td>WDRAW_2YR_TRANS_YR2_RT</td>\n",
       "    </tr>\n",
       "    <tr>\n",
       "      <th>818</th>\n",
       "      <td>Percent of students who never received a federal loan at the institution and withdrew from origi...</td>\n",
       "      <td>completion</td>\n",
       "      <td>NOLOAN_WDRAW_ORIG_YR2_RT</td>\n",
       "    </tr>\n",
       "    <tr>\n",
       "      <th>845</th>\n",
       "      <td>Percent of not-first-generation students who transferred to a 4-year institution and withdrew wi...</td>\n",
       "      <td>completion</td>\n",
       "      <td>NOT1STGEN_WDRAW_4YR_TRANS_YR2_RT</td>\n",
       "    </tr>\n",
       "    <tr>\n",
       "      <th>846</th>\n",
       "      <td>Percent of not-first-generation students who transferred to a 2-year institution and withdrew wi...</td>\n",
       "      <td>completion</td>\n",
       "      <td>NOT1STGEN_WDRAW_2YR_TRANS_YR2_RT</td>\n",
       "    </tr>\n",
       "    <tr>\n",
       "      <th>859</th>\n",
       "      <td>Percent who transferred to a 2-year institution and withdrew within 3 years</td>\n",
       "      <td>completion</td>\n",
       "      <td>WDRAW_2YR_TRANS_YR3_RT</td>\n",
       "    </tr>\n",
       "    <tr>\n",
       "      <th>1000</th>\n",
       "      <td>Percent of students who never received a federal loan at the institution and withdrew from origi...</td>\n",
       "      <td>completion</td>\n",
       "      <td>NOLOAN_WDRAW_ORIG_YR3_RT</td>\n",
       "    </tr>\n",
       "    <tr>\n",
       "      <th>1001</th>\n",
       "      <td>Percent of students who never received a federal loan at the institution and who transferred to ...</td>\n",
       "      <td>completion</td>\n",
       "      <td>NOLOAN_WDRAW_4YR_TRANS_YR3_RT</td>\n",
       "    </tr>\n",
       "    <tr>\n",
       "      <th>1028</th>\n",
       "      <td>Percent of not-first-generation students who transferred to a 2-year institution and withdrew wi...</td>\n",
       "      <td>completion</td>\n",
       "      <td>NOT1STGEN_WDRAW_2YR_TRANS_YR3_RT</td>\n",
       "    </tr>\n",
       "    <tr>\n",
       "      <th>1041</th>\n",
       "      <td>Percent who transferred to a 2-year institution and withdrew within 4 years</td>\n",
       "      <td>completion</td>\n",
       "      <td>WDRAW_2YR_TRANS_YR4_RT</td>\n",
       "    </tr>\n",
       "    <tr>\n",
       "      <th>1182</th>\n",
       "      <td>Percent of students who never received a federal loan at the institution and withdrew from origi...</td>\n",
       "      <td>completion</td>\n",
       "      <td>NOLOAN_WDRAW_ORIG_YR4_RT</td>\n",
       "    </tr>\n",
       "    <tr>\n",
       "      <th>1184</th>\n",
       "      <td>Percent of students who never received a federal loan at the institution and who transferred to ...</td>\n",
       "      <td>completion</td>\n",
       "      <td>NOLOAN_WDRAW_2YR_TRANS_YR4_RT</td>\n",
       "    </tr>\n",
       "    <tr>\n",
       "      <th>1637</th>\n",
       "      <td>Percentage of aided students whose family income is between $0-$30,000</td>\n",
       "      <td>student</td>\n",
       "      <td>INC_PCT_LO</td>\n",
       "    </tr>\n",
       "    <tr>\n",
       "      <th>1640</th>\n",
       "      <td>Percentage of students who are financially dependent and have family incomes between $0-30,000</td>\n",
       "      <td>student</td>\n",
       "      <td>DEP_INC_PCT_LO</td>\n",
       "    </tr>\n",
       "    <tr>\n",
       "      <th>1641</th>\n",
       "      <td>Percentage first-generation students</td>\n",
       "      <td>student</td>\n",
       "      <td>PAR_ED_PCT_1STGEN</td>\n",
       "    </tr>\n",
       "    <tr>\n",
       "      <th>1643</th>\n",
       "      <td>Aided students with family incomes between $48,001-$75,000 in nominal dollars</td>\n",
       "      <td>student</td>\n",
       "      <td>INC_PCT_M2</td>\n",
       "    </tr>\n",
       "    <tr>\n",
       "      <th>1644</th>\n",
       "      <td>Aided students with family incomes between $75,001-$110,000 in nominal dollars</td>\n",
       "      <td>student</td>\n",
       "      <td>INC_PCT_H1</td>\n",
       "    </tr>\n",
       "    <tr>\n",
       "      <th>1655</th>\n",
       "      <td>Percent of students whose parents' highest educational level is high school</td>\n",
       "      <td>student</td>\n",
       "      <td>PAR_ED_PCT_HS</td>\n",
       "    </tr>\n",
       "    <tr>\n",
       "      <th>1661</th>\n",
       "      <td>Average family income of dependent students in real 2015 dollars.</td>\n",
       "      <td>student</td>\n",
       "      <td>DEP_INC_AVG</td>\n",
       "    </tr>\n",
       "    <tr>\n",
       "      <th>1835</th>\n",
       "      <td>Share of students who received a Pell Grant while in school</td>\n",
       "      <td>student</td>\n",
       "      <td>PELL_EVER</td>\n",
       "    </tr>\n",
       "    <tr>\n",
       "      <th>1843</th>\n",
       "      <td>Share of first-generation students</td>\n",
       "      <td>student</td>\n",
       "      <td>FIRST_GEN</td>\n",
       "    </tr>\n",
       "    <tr>\n",
       "      <th>1844</th>\n",
       "      <td>Average family income in real 2015 dollars</td>\n",
       "      <td>student</td>\n",
       "      <td>FAMINC</td>\n",
       "    </tr>\n",
       "  </tbody>\n",
       "</table>\n",
       "</div>"
      ],
      "text/plain": [
       "                                                                                                     desc  \\\n",
       "25                                                                                 Control of institution   \n",
       "531                      Total share of enrollment of undergraduate degree-seeking students who are black   \n",
       "539         Total share of enrollment of undergraduate degree-seeking students who are white non-Hispanic   \n",
       "624                                                 Percentage of undergraduates who receive a Pell Grant   \n",
       "675                                            Percent withdrawn from original institution within 2 years   \n",
       "677                           Percent who transferred to a 2-year institution and withdrew within 2 years   \n",
       "818   Percent of students who never received a federal loan at the institution and withdrew from origi...   \n",
       "845   Percent of not-first-generation students who transferred to a 4-year institution and withdrew wi...   \n",
       "846   Percent of not-first-generation students who transferred to a 2-year institution and withdrew wi...   \n",
       "859                           Percent who transferred to a 2-year institution and withdrew within 3 years   \n",
       "1000  Percent of students who never received a federal loan at the institution and withdrew from origi...   \n",
       "1001  Percent of students who never received a federal loan at the institution and who transferred to ...   \n",
       "1028  Percent of not-first-generation students who transferred to a 2-year institution and withdrew wi...   \n",
       "1041                          Percent who transferred to a 2-year institution and withdrew within 4 years   \n",
       "1182  Percent of students who never received a federal loan at the institution and withdrew from origi...   \n",
       "1184  Percent of students who never received a federal loan at the institution and who transferred to ...   \n",
       "1637                               Percentage of aided students whose family income is between $0-$30,000   \n",
       "1640       Percentage of students who are financially dependent and have family incomes between $0-30,000   \n",
       "1641                                                                 Percentage first-generation students   \n",
       "1643                        Aided students with family incomes between $48,001-$75,000 in nominal dollars   \n",
       "1644                       Aided students with family incomes between $75,001-$110,000 in nominal dollars   \n",
       "1655                          Percent of students whose parents' highest educational level is high school   \n",
       "1661                                    Average family income of dependent students in real 2015 dollars.   \n",
       "1835                                          Share of students who received a Pell Grant while in school   \n",
       "1843                                                                   Share of first-generation students   \n",
       "1844                                                           Average family income in real 2015 dollars   \n",
       "\n",
       "        category                              name  \n",
       "25        school                           CONTROL  \n",
       "531      student                        UGDS_BLACK  \n",
       "539      student                      UGDS_WHITENH  \n",
       "624          aid                           PCTPELL  \n",
       "675   completion                 WDRAW_ORIG_YR2_RT  \n",
       "677   completion            WDRAW_2YR_TRANS_YR2_RT  \n",
       "818   completion          NOLOAN_WDRAW_ORIG_YR2_RT  \n",
       "845   completion  NOT1STGEN_WDRAW_4YR_TRANS_YR2_RT  \n",
       "846   completion  NOT1STGEN_WDRAW_2YR_TRANS_YR2_RT  \n",
       "859   completion            WDRAW_2YR_TRANS_YR3_RT  \n",
       "1000  completion          NOLOAN_WDRAW_ORIG_YR3_RT  \n",
       "1001  completion     NOLOAN_WDRAW_4YR_TRANS_YR3_RT  \n",
       "1028  completion  NOT1STGEN_WDRAW_2YR_TRANS_YR3_RT  \n",
       "1041  completion            WDRAW_2YR_TRANS_YR4_RT  \n",
       "1182  completion          NOLOAN_WDRAW_ORIG_YR4_RT  \n",
       "1184  completion     NOLOAN_WDRAW_2YR_TRANS_YR4_RT  \n",
       "1637     student                        INC_PCT_LO  \n",
       "1640     student                    DEP_INC_PCT_LO  \n",
       "1641     student                 PAR_ED_PCT_1STGEN  \n",
       "1643     student                        INC_PCT_M2  \n",
       "1644     student                        INC_PCT_H1  \n",
       "1655     student                     PAR_ED_PCT_HS  \n",
       "1661     student                       DEP_INC_AVG  \n",
       "1835     student                         PELL_EVER  \n",
       "1843     student                         FIRST_GEN  \n",
       "1844     student                            FAMINC  "
      ]
     },
     "execution_count": 273,
     "metadata": {},
     "output_type": "execute_result"
    }
   ],
   "source": [
    "pd.options.display.max_colwidth = 100\n",
    "f_en=X.columns[feature_en[0:size]]\n",
    "dic.loc[dic.name.isin(f_en),:]\n"
   ]
  },
  {
   "cell_type": "code",
   "execution_count": null,
   "metadata": {
    "collapsed": true
   },
   "outputs": [],
   "source": [
    " list(set(X.columns[feature_en[0:27]]).intersection(X.columns[order_importance[0:27]]))"
   ]
  },
  {
   "cell_type": "code",
   "execution_count": null,
   "metadata": {
    "collapsed": true
   },
   "outputs": [],
   "source": [
    "dic.loc[dic.name.isin(feature_en),:].groupby(['category']).count()"
   ]
  },
  {
   "cell_type": "code",
   "execution_count": null,
   "metadata": {
    "collapsed": true
   },
   "outputs": [],
   "source": []
  }
 ],
 "metadata": {
  "kernelspec": {
   "display_name": "Python 2",
   "language": "python",
   "name": "python2"
  },
  "language_info": {
   "codemirror_mode": {
    "name": "ipython",
    "version": 2
   },
   "file_extension": ".py",
   "mimetype": "text/x-python",
   "name": "python",
   "nbconvert_exporter": "python",
   "pygments_lexer": "ipython2",
   "version": "2.7.13"
  }
 },
 "nbformat": 4,
 "nbformat_minor": 2
}
