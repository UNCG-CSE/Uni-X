{
 "cells": [
  {
   "cell_type": "code",
   "execution_count": 3,
   "metadata": {
    "collapsed": true
   },
   "outputs": [],
   "source": [
    "#importing packages\n",
    "%matplotlib inline\n",
    "\n",
    "import matplotlib\n",
    "import pandas as pd\n",
    "import numpy as np\n",
    "from matplotlib import pyplot as plt"
   ]
  },
  {
   "cell_type": "code",
   "execution_count": 4,
   "metadata": {
    "scrolled": false
   },
   "outputs": [
    {
     "name": "stderr",
     "output_type": "stream",
     "text": [
      "C:\\ProgramData\\Anaconda3\\lib\\site-packages\\IPython\\core\\interactiveshell.py:2717: DtypeWarning: Columns (1) have mixed types. Specify dtype option on import or set low_memory=False.\n",
      "  interactivity=interactivity, compiler=compiler, result=result)\n",
      "C:\\ProgramData\\Anaconda3\\lib\\site-packages\\IPython\\core\\interactiveshell.py:2717: DtypeWarning: Columns (1,6,442,451,598,607,611,620,624,633,789,802,806,815,893,906,971,984,997,1153,1166,1407,1408,1411,1425,1431,1432,1433,1437,1438,1439,1440,1445,1446,1447,1451,1452,1453,1454,1459,1460,1461,1465,1466,1467,1468,1473,1474,1475,1479,1480,1481,1482,1487,1488,1489,1501,1502,1537,1538,1539,1540,1541,1542,1603,1606,1609,1610,1611,1613,1614,1615,1616,1688,1689,1690,1691,1692,1729) have mixed types. Specify dtype option on import or set low_memory=False.\n",
      "  interactivity=interactivity, compiler=compiler, result=result)\n",
      "C:\\ProgramData\\Anaconda3\\lib\\site-packages\\IPython\\core\\interactiveshell.py:2717: DtypeWarning: Columns (1,1729) have mixed types. Specify dtype option on import or set low_memory=False.\n",
      "  interactivity=interactivity, compiler=compiler, result=result)\n",
      "C:\\ProgramData\\Anaconda3\\lib\\site-packages\\IPython\\core\\interactiveshell.py:2717: DtypeWarning: Columns (1,6,1408,1431,1432,1433,1475,1489,1537,1538,1539,1540,1542,1603,1606,1610,1611,1614,1615,1616,1729) have mixed types. Specify dtype option on import or set low_memory=False.\n",
      "  interactivity=interactivity, compiler=compiler, result=result)\n",
      "C:\\ProgramData\\Anaconda3\\lib\\site-packages\\IPython\\core\\interactiveshell.py:2717: DtypeWarning: Columns (1,1447,1537,1540,1542,1606,1614,1615) have mixed types. Specify dtype option on import or set low_memory=False.\n",
      "  interactivity=interactivity, compiler=compiler, result=result)\n",
      "C:\\ProgramData\\Anaconda3\\lib\\site-packages\\IPython\\core\\interactiveshell.py:2717: DtypeWarning: Columns (1,1537,1540,1542,1606,1614,1615) have mixed types. Specify dtype option on import or set low_memory=False.\n",
      "  interactivity=interactivity, compiler=compiler, result=result)\n",
      "C:\\ProgramData\\Anaconda3\\lib\\site-packages\\IPython\\core\\interactiveshell.py:2717: DtypeWarning: Columns (1,6,1461,1561,1729) have mixed types. Specify dtype option on import or set low_memory=False.\n",
      "  interactivity=interactivity, compiler=compiler, result=result)\n",
      "C:\\ProgramData\\Anaconda3\\lib\\site-packages\\IPython\\core\\interactiveshell.py:2717: DtypeWarning: Columns (1537,1540,1542,1575,1606,1614,1615,1729) have mixed types. Specify dtype option on import or set low_memory=False.\n",
      "  interactivity=interactivity, compiler=compiler, result=result)\n",
      "C:\\ProgramData\\Anaconda3\\lib\\site-packages\\IPython\\core\\interactiveshell.py:2717: DtypeWarning: Columns (1537,1540,1542,1561,1575,1606,1614,1615,1729) have mixed types. Specify dtype option on import or set low_memory=False.\n",
      "  interactivity=interactivity, compiler=compiler, result=result)\n",
      "C:\\ProgramData\\Anaconda3\\lib\\site-packages\\IPython\\core\\interactiveshell.py:2717: DtypeWarning: Columns (6,9,1379,1380,1381,1382,1383,1384,1385,1386,1387,1388,1389,1390,1391,1392,1393,1394,1395,1396,1397,1398,1399,1400,1401,1402,1403,1404,1405,1406,1407,1411,1425,1427,1503,1517,1529,1530,1532,1537,1540,1541,1542,1575,1576,1577,1578,1579,1580,1581,1582,1583,1584,1585,1586,1587,1588,1589,1590,1591,1592,1593,1594,1595,1596,1597,1598,1599,1600,1601,1602,1605,1606,1609,1610,1613,1614,1615,1725,1726,1727,1728,1729) have mixed types. Specify dtype option on import or set low_memory=False.\n",
      "  interactivity=interactivity, compiler=compiler, result=result)\n"
     ]
    }
   ],
   "source": [
    "# Load csv file into dataframe\n",
    "sc96 = pd.read_csv(\"../data/CollegeScorecard_Raw_Data/MERGED1996_97_PP.csv\")\n",
    "sc97 = pd.read_csv(\"../data/CollegeScorecard_Raw_Data/MERGED1997_98_PP.csv\")\n",
    "sc98 = pd.read_csv(\"../data/CollegeScorecard_Raw_Data/MERGED1998_99_PP.csv\")\n",
    "sc99 = pd.read_csv(\"../data/CollegeScorecard_Raw_Data/MERGED1999_00_PP.csv\")\n",
    "sc00 = pd.read_csv(\"../data/CollegeScorecard_Raw_Data/MERGED2000_01_PP.csv\")\n",
    "sc01 = pd.read_csv(\"../data/CollegeScorecard_Raw_Data/MERGED2001_02_PP.csv\")\n",
    "sc02 = pd.read_csv(\"../data/CollegeScorecard_Raw_Data/MERGED2002_03_PP.csv\")\n",
    "sc03 = pd.read_csv(\"../data/CollegeScorecard_Raw_Data/MERGED2003_04_PP.csv\")\n",
    "sc04 = pd.read_csv(\"../data/CollegeScorecard_Raw_Data/MERGED2004_05_PP.csv\")\n",
    "sc05 = pd.read_csv(\"../data/CollegeScorecard_Raw_Data/MERGED2005_06_PP.csv\")\n",
    "sc06 = pd.read_csv(\"../data/CollegeScorecard_Raw_Data/MERGED2006_07_PP.csv\")\n",
    "sc07 = pd.read_csv(\"../data/CollegeScorecard_Raw_Data/MERGED2007_08_PP.csv\")\n",
    "sc08 = pd.read_csv(\"../data/CollegeScorecard_Raw_Data/MERGED2008_09_PP.csv\")\n",
    "sc09 = pd.read_csv(\"../data/CollegeScorecard_Raw_Data/MERGED2009_10_PP.csv\")\n",
    "sc10 = pd.read_csv(\"../data/CollegeScorecard_Raw_Data/MERGED2010_11_PP.csv\")\n",
    "sc11 = pd.read_csv(\"../data/CollegeScorecard_Raw_Data/MERGED2011_12_PP.csv\")\n",
    "sc12 = pd.read_csv(\"../data/CollegeScorecard_Raw_Data/MERGED2012_13_PP.csv\")\n",
    "sc13 = pd.read_csv(\"../data/CollegeScorecard_Raw_Data/MERGED2013_14_PP.csv\")\n",
    "sc14 = pd.read_csv(\"../data/CollegeScorecard_Raw_Data/MERGED2014_15_PP.csv\")"
   ]
  },
  {
   "cell_type": "code",
   "execution_count": 9,
   "metadata": {},
   "outputs": [
    {
     "data": {
      "text/plain": [
       "Index(['NAME OF DATA ELEMENT', 'dev-category', 'developer-friendly name',\n",
       "       'API data type', 'VARIABLE NAME', 'VALUE', 'LABEL', 'SOURCE', 'NOTES'],\n",
       "      dtype='object')"
      ]
     },
     "execution_count": 9,
     "metadata": {},
     "output_type": "execute_result"
    }
   ],
   "source": [
    "# Load Dictionary\n",
    "dic_file=pd.ExcelFile(\"../data/CollegeScorecardDataDictionary.xlsx\")\n",
    "dic_init = dic_file.parse(\"data_dictionary\")\n",
    "dic_init.head()\n",
    "dic_init.columns"
   ]
  },
  {
   "cell_type": "code",
   "execution_count": 10,
   "metadata": {},
   "outputs": [
    {
     "name": "stderr",
     "output_type": "stream",
     "text": [
      "C:\\ProgramData\\Anaconda3\\lib\\site-packages\\ipykernel_launcher.py:2: DeprecationWarning: \n",
      ".ix is deprecated. Please use\n",
      ".loc for label based indexing or\n",
      ".iloc for positional indexing\n",
      "\n",
      "See the documentation here:\n",
      "http://pandas.pydata.org/pandas-docs/stable/indexing.html#deprecate_ix\n",
      "  \n"
     ]
    }
   ],
   "source": [
    "# Clean Dictionary\n",
    "dic=dic_init.ix[dic_init['VARIABLE NAME'].notnull()]"
   ]
  },
  {
   "cell_type": "code",
   "execution_count": 11,
   "metadata": {
    "collapsed": true
   },
   "outputs": [],
   "source": [
    "sc_init=[sc96,sc97,sc98,sc99,sc00,sc01,sc02,sc03,sc04,sc05,sc06,sc07,sc08,sc09,sc10,sc11,sc12,sc13,sc14]\n",
    "#sc_init=[sc96,sc97] # try 2 for testing"
   ]
  },
  {
   "cell_type": "code",
   "execution_count": 12,
   "metadata": {},
   "outputs": [
    {
     "data": {
      "text/plain": [
       "[(6794, 1743),\n",
       " (6699, 1743),\n",
       " (6480, 1743),\n",
       " (6466, 1743),\n",
       " (6478, 1743),\n",
       " (6619, 1743),\n",
       " (6546, 1743),\n",
       " (6585, 1743),\n",
       " (6660, 1743),\n",
       " (6824, 1743),\n",
       " (6848, 1743),\n",
       " (6890, 1743),\n",
       " (6975, 1743),\n",
       " (7149, 1743),\n",
       " (7414, 1743),\n",
       " (7675, 1743),\n",
       " (7793, 1743),\n",
       " (7804, 1743),\n",
       " (7703, 1743)]"
      ]
     },
     "execution_count": 12,
     "metadata": {},
     "output_type": "execute_result"
    }
   ],
   "source": [
    "[s.shape for s in sc_init]"
   ]
  },
  {
   "cell_type": "code",
   "execution_count": 13,
   "metadata": {},
   "outputs": [
    {
     "name": "stderr",
     "output_type": "stream",
     "text": [
      "C:\\ProgramData\\Anaconda3\\lib\\site-packages\\ipykernel_launcher.py:2: DeprecationWarning: \n",
      ".ix is deprecated. Please use\n",
      ".loc for label based indexing or\n",
      ".iloc for positional indexing\n",
      "\n",
      "See the documentation here:\n",
      "http://pandas.pydata.org/pandas-docs/stable/indexing.html#deprecate_ix\n",
      "  \n"
     ]
    }
   ],
   "source": [
    "# Seperate X and Y\n",
    "scx = [s.ix[:,dic['VARIABLE NAME'][dic[\"dev-category\"]!=\"repayment\"] ]for s in sc_init]\n",
    "scy = [s.ix[:,['RPY_1YR_RT','RPY_3YR_RT','RPY_5YR_RT', 'RPY_7YR_RT']] for s in sc_init]"
   ]
  },
  {
   "cell_type": "code",
   "execution_count": 28,
   "metadata": {
    "collapsed": true
   },
   "outputs": [],
   "source": [
    "#Add year variable\n",
    "for i in range(len(scx)):\n",
    "    scx[i]['Year']=i+1996"
   ]
  },
  {
   "cell_type": "code",
   "execution_count": null,
   "metadata": {
    "collapsed": true
   },
   "outputs": [],
   "source": [
    "\n"
   ]
  },
  {
   "cell_type": "code",
   "execution_count": 36,
   "metadata": {},
   "outputs": [
    {
     "data": {
      "text/plain": [
       "[[0, 0, 0, 0],\n",
       " [0, 0, 0, 0],\n",
       " [0, 0, 0, 0],\n",
       " [0, 0, 0, 0],\n",
       " [0, 0, 0, 0],\n",
       " [0, 0, 0, 0],\n",
       " [0, 0, 0, 0],\n",
       " [0, 0, 0, 0],\n",
       " [0, 0, 0, 0],\n",
       " [0, 0, 0, 0],\n",
       " [0, 0, 0, 0],\n",
       " [5944, 0, 0, 0],\n",
       " [6073, 0, 0, 0],\n",
       " [6281, 6035, 0, 0],\n",
       " [6535, 6238, 0, 0],\n",
       " [6877, 6510, 6299, 0],\n",
       " [7031, 6711, 6415, 0],\n",
       " [0, 6848, 6491, 6302],\n",
       " [0, 6801, 6496, 6205]]"
      ]
     },
     "execution_count": 36,
     "metadata": {},
     "output_type": "execute_result"
    }
   ],
   "source": [
    "# See how many valid y response in dataset\n",
    "[[len(scy[j].ix[:,i].dropna(how=\"all\",axis=0)) for i in range(4)] for j in range(len(scy))]"
   ]
  },
  {
   "cell_type": "markdown",
   "metadata": {
    "collapsed": true
   },
   "source": [
    "From the result above one can see that there is no information about repayment rate from 1996-2006. So for analysis on repayment\n",
    "rate we only need to focus on the dataset from 2007-2014. Especially, we will focus on the dataset:<br\\>\n",
    "2007-2012 for RPY_1YR_RT<br\\>\n",
    "2009-2014 for RPY_3YR_RT<br\\>\n",
    "2001-2014 for RPY_5YR_RT<br\\>\n",
    "2002-2014 for RPY_7YR_RT<br\\>"
   ]
  },
  {
   "cell_type": "code",
   "execution_count": 21,
   "metadata": {
    "collapsed": true
   },
   "outputs": [],
   "source": [
    "scx_07_14 =[scx[i] for i in range(len(scx)) if (i+1996)>=2007 and (i+1996)<=2014]"
   ]
  },
  {
   "cell_type": "code",
   "execution_count": 28,
   "metadata": {},
   "outputs": [
    {
     "data": {
      "text/plain": [
       "8"
      ]
     },
     "execution_count": 28,
     "metadata": {},
     "output_type": "execute_result"
    }
   ],
   "source": [
    "scy_07_14 =[scy[i] for i in range(len(scy)) if (i+1996)>=2007 and (i+1996)<=2014]"
   ]
  },
  {
   "cell_type": "code",
   "execution_count": 25,
   "metadata": {
    "collapsed": true
   },
   "outputs": [],
   "source": [
    "# Drop the columns with over 30% NAN in X\n",
    "pro=0.3\n",
    "scx_07_14=[s.dropna(axis=1,thresh=np.ceil(s.shape[1]*(1-pro))) for s in scx_07_14]"
   ]
  },
  {
   "cell_type": "code",
   "execution_count": 26,
   "metadata": {},
   "outputs": [
    {
     "data": {
      "text/plain": [
       "[(6890, 1430),\n",
       " (6975, 1384),\n",
       " (7149, 1484),\n",
       " (7414, 1430),\n",
       " (7675, 1475),\n",
       " (7793, 1464),\n",
       " (7804, 1414),\n",
       " (7703, 454)]"
      ]
     },
     "execution_count": 26,
     "metadata": {},
     "output_type": "execute_result"
    }
   ],
   "source": [
    "[s.shape for s in scx_07_14]=[scx[i] for i in range(len(scx)) if (i+1996)>=2007 and (i+1996)<=2014]"
   ]
  },
  {
   "cell_type": "code",
   "execution_count": 46,
   "metadata": {},
   "outputs": [
    {
     "data": {
      "text/plain": [
       "[(6890, 4),\n",
       " (6975, 4),\n",
       " (7149, 4),\n",
       " (7414, 4),\n",
       " (7675, 4),\n",
       " (7793, 4),\n",
       " (7804, 4),\n",
       " (7703, 4)]"
      ]
     },
     "execution_count": 46,
     "metadata": {},
     "output_type": "execute_result"
    }
   ],
   "source": [
    "[s.shape for s in scy_07_14]"
   ]
  },
  {
   "cell_type": "code",
   "execution_count": null,
   "metadata": {
    "collapsed": true
   },
   "outputs": [],
   "source": [
    "# Save RPYvsX_07_14_cleaned to file\n",
    "pd.DataFrame([scy_07_14,scx_07_14]).to_pickle('../data/RPYvsX_07_14_cleaned')"
   ]
  },
  {
   "cell_type": "code",
   "execution_count": 37,
   "metadata": {},
   "outputs": [
    {
     "data": {
      "text/plain": [
       "43896"
      ]
     },
     "execution_count": 37,
     "metadata": {},
     "output_type": "execute_result"
    }
   ],
   "source": [
    "# Seperate y by different type\n",
    "y_1yr=(pd.concat([scy_07_14[i].ix[:,1] for i in range(6)]))\n",
    "y_3yr=(pd.concat([scy_07_14[i].ix[:,2] for i in range(2,8)]))\n",
    "y_5yr=(pd.concat([scy_07_14[i].ix[:,3] for i in range(4,8)]))\n",
    "y_7yr=(pd.concat([scy_07_14[i].ix[:,4] for i in range(6,8)]))"
   ]
  }
 ],
 "metadata": {
  "kernelspec": {
   "display_name": "Python 2",
   "language": "python",
   "name": "python2"
  },
  "language_info": {
   "codemirror_mode": {
    "name": "ipython",
    "version": 2
   },
   "file_extension": ".py",
   "mimetype": "text/x-python",
   "name": "python",
   "nbconvert_exporter": "python",
   "pygments_lexer": "ipython2",
   "version": "2.7.13"
  }
 },
 "nbformat": 4,
 "nbformat_minor": 2
}
